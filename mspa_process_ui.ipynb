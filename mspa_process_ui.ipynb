{
 "cells": [
  {
   "cell_type": "code",
   "execution_count": 1,
   "metadata": {},
   "outputs": [],
   "source": [
    "from sepal_ui import widgetFactory as wf\n",
    "from sepal_ui import widgetBinding as wb\n",
    "\n",
    "import ipyvuetify as v\n",
    "from utils import messages as ms"
   ]
  },
  {
   "cell_type": "code",
   "execution_count": 2,
   "metadata": {},
   "outputs": [],
   "source": [
    "#use a class to define your input and output in order to have mutable variables\n",
    "class Mspa_process_IO:\n",
    "    def __init__(self):\n",
    "        #set up your inputs\n",
    "        self.foreground_connectivity = None\n",
    "        self.edge_width = None\n",
    "        self.transition_core = True\n",
    "        self.separate_feature = True\n",
    "        self.statistics = True\n",
    "        \n",
    "mspa_process_io = Mspa_process_IO()"
   ]
  },
  {
   "cell_type": "code",
   "execution_count": 3,
   "metadata": {},
   "outputs": [],
   "source": [
    "#create an empty result tile that will be filled with displayable plot, map, links, text\n",
    "id_ = \"mspa_process_widget\"\n",
    "title = \"Results\"\n",
    "mspa_results = wf.Tile(id_, title, inputs=['No results to display yet'])"
   ]
  },
  {
   "cell_type": "code",
   "execution_count": 4,
   "metadata": {},
   "outputs": [],
   "source": [
    "#create the output alert \n",
    "mspa_process_output = wf.OutputWidget(ms.MSPA_MESSAGE)\n",
    "\n",
    "#create the button that start your process\n",
    "mspa_process_btn = wf.ProcessBtn('Run mspa analysis')\n",
    "\n",
    "#create the widgets following ipyvuetify requirements \n",
    "connectivity = [4, 8] #using text input to transform it into 'confXX'\n",
    "mspa_connectivity = v.Select(\n",
    "    items=connectivity, \n",
    "    label='Foreground connectivity', \n",
    "    v_model=None\n",
    ")\n",
    "mspa_edge_slider = v.Slider(\n",
    "    label= 'Edge width (m)',\n",
    "    max=300,\n",
    "    class_=\"mt-5\", \n",
    "    thumb_label='always', \n",
    "    step=30,\n",
    "    v_model=0\n",
    ")\n",
    "mspa_transition = v.Switch(label=\"Transition Core - Loop/Bridge\", v_model=True)\n",
    "mspa_feature = v.Switch(label=\"Separate internal from external features\", v_model=True)\n",
    "mspa_statistics = v.Switch(label=\"Compute statistics\", v_model=True)\n",
    "\n",
    "\n",
    "mspa_process_inputs = [\n",
    "    mspa_connectivity, \n",
    "    mspa_edge_slider, \n",
    "    mspa_transition, \n",
    "    mspa_feature, \n",
    "    mspa_statistics\n",
    "]\n",
    "\n",
    "#bind the widget to the inputs\n",
    "wb.bind(mspa_connectivity, mspa_process_io, 'foreground_connectivity', mspa_process_output)\n",
    "wb.bind(mspa_edge_slider, mspa_process_io, 'edge_width', mspa_process_output)\n",
    "wb.bind(mspa_transition, mspa_process_io, 'transition_core', mspa_process_output)\n",
    "wb.bind(mspa_feature, mspa_process_io, 'separate_feature', mspa_process_output)\n",
    "wb.bind(mspa_statistics, mspa_process_io, 'statistics', mspa_process_output)\n",
    "\n",
    "\n",
    "#create a process tile\n",
    "id_ = \"mspa_process_widget\"\n",
    "title = 'Create fragmentation map'\n",
    "\n",
    "mspa_process = wf.Tile(\n",
    "    id_, \n",
    "    title, \n",
    "    btn=mspa_process_btn, \n",
    "    inputs=mspa_process_inputs, \n",
    "    output=mspa_process_output\n",
    ")"
   ]
  },
  {
   "cell_type": "code",
   "execution_count": 5,
   "metadata": {},
   "outputs": [],
   "source": [
    "#bind the button to the process by writing a custom function\n",
    "from scripts import run\n",
    "from sepal_ui.scripts import utils\n",
    "from functools import partial\n",
    "\n",
    "def process_start(widget, event, data, output, mspa_results):    \n",
    "    \n",
    "    #toggle the loading button\n",
    "    utils.toggleLoading(widget)\n",
    "    \n",
    "    #debug\n",
    "    #asset = 'users/bornToBeAlive/aoi_PU'\n",
    "    #threshold = 42\n",
    "    #clip_map = '/home/prambaud/gfc_wrapper_results/gfc/PU_42_merged_gfc_map.tif'\n",
    "    \n",
    "    #load inputs\n",
    "    asset = getattr(gfc_aoi_IO, 'assetId')\n",
    "    threshold = getattr(gfc_viz_io, 'threshold')\n",
    "    clip_map = getattr(gfc_export_io, 'clip_map')\n",
    "    foreground_connectivity = getattr(mspa_process_io, 'foreground_connectivity')\n",
    "    edge_width = getattr(mspa_process_io,'edge_width')\n",
    "    transition_core = getattr(mspa_process_io, 'transition_core')\n",
    "    separate_feature = getattr(mspa_process_io, 'separate_feature')\n",
    "    statistics = getattr(mspa_process_io, 'statistics')\n",
    "    \n",
    "    #check inputs \n",
    "    if not wb.checkInput(asset, output, ms.NO_AOI): return utils.toggleLoading(widget)\n",
    "    if not wb.checkInput(clip_map, output, ms.NO_MAP): return utils.toggleLoading(widget)\n",
    "    if not wb.checkInput(foreground_connectivity, output, ms.NO_INPUT): return utils.toggleLoading(widget)\n",
    "    \n",
    "    #launch any process you want\n",
    "    output_layout = run.mspaAnalysis(\n",
    "        clip_map=clip_map, \n",
    "        assetId=asset, \n",
    "        threshold=threshold, \n",
    "        foreground_connectivity=foreground_connectivity, \n",
    "        edge_width=int(edge_width/30), #to reduce to pixel width, \n",
    "        transition_core=transition_core, \n",
    "        separate_feature=separate_feature, \n",
    "        statistics=statistics,\n",
    "        output=output\n",
    "    )\n",
    "    \n",
    "    \n",
    "    #display the image \n",
    "    mspa_results.children[0].children = [mspa_results.children[0].children[0]] + output_layout\n",
    "    \n",
    "    #toggle the loading button\n",
    "    utils.toggleLoading(widget)\n",
    "\n",
    "mspa_process_btn.on_event('click', partial(\n",
    "    process_start, \n",
    "    output=mspa_process_output,\n",
    "    mspa_results=mspa_results\n",
    "))"
   ]
  },
  {
   "cell_type": "code",
   "execution_count": 6,
   "metadata": {
    "scrolled": false
   },
   "outputs": [
    {
     "data": {
      "application/vnd.jupyter.widget-view+json": {
       "model_id": "73fd7735ebfb43358cf2a343f81e1568",
       "version_major": 2,
       "version_minor": 0
      },
      "text/plain": [
       "Layout(align_center=True, children=[Card(children=[Html(children=['Create fragmentation map'], tag='h2'), Flex…"
      ]
     },
     "metadata": {},
     "output_type": "display_data"
    }
   ],
   "source": [
    "#this tiles will only be displayed if you launch voila from this file \n",
    "mspa_process"
   ]
  },
  {
   "cell_type": "code",
   "execution_count": 7,
   "metadata": {},
   "outputs": [
    {
     "data": {
      "application/vnd.jupyter.widget-view+json": {
       "model_id": "76974be118e0467c8927c7da350b02da",
       "version_major": 2,
       "version_minor": 0
      },
      "text/plain": [
       "Layout(align_center=True, children=[Card(children=[Html(children=['Results'], tag='h2'), Flex(children=[Layout…"
      ]
     },
     "metadata": {},
     "output_type": "display_data"
    }
   ],
   "source": [
    "#this tiles will only be displayed if you launch voila from this file \n",
    "mspa_results"
   ]
  }
 ],
 "metadata": {
  "kernelspec": {
   "display_name": "Python 3",
   "language": "python",
   "name": "python3"
  },
  "language_info": {
   "codemirror_mode": {
    "name": "ipython",
    "version": 3
   },
   "file_extension": ".py",
   "mimetype": "text/x-python",
   "name": "python",
   "nbconvert_exporter": "python",
   "pygments_lexer": "ipython3",
   "version": "3.6.9"
  }
 },
 "nbformat": 4,
 "nbformat_minor": 4
}
