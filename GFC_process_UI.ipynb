{
 "cells": [
  {
   "cell_type": "code",
   "execution_count": 1,
   "metadata": {},
   "outputs": [],
   "source": [
    "from sepal_ui import widgetFactory as wf\n",
    "from sepal_ui import widgetBinding as wb\n",
    "\n",
    "#use a class to define your input and output in order to have mutable variables\n",
    "class gfc_process_IO:\n",
    "    def __init__(self):\n",
    "        #set up your inputs\n",
    "        self.threshold = 30\n",
    "        \n",
    "        #set up output\n",
    "        self.visualization = False\n",
    "        self.clip_map = None\n",
    "        self.csv_file = None\n",
    "        \n",
    "gfc_process_io = gfc_process_IO()"
   ]
  },
  {
   "cell_type": "code",
   "execution_count": 2,
   "metadata": {},
   "outputs": [],
   "source": [
    "GFC_MESSAGE = 'Click on \"Update\" to visualize the data'\n",
    "EXPORT_MESSAGE = 'Click on \"Export\" to export the data'\n",
    "NO_THRESHOLD = 'No threshold have been selected'\n",
    "NO_AOI = 'No aoi have been provided, select one in step 1'\n",
    "NO_VIZ= 'Befor launching the export, it is strongly advised to vizualize data'"
   ]
  },
  {
   "cell_type": "code",
   "execution_count": 3,
   "metadata": {},
   "outputs": [],
   "source": [
    "#create an empty result tile that will be filled with displayable plot, map, links, text\n",
    "id_ = \"gfc_process_widget\"\n",
    "title = \"Results\"\n",
    "\n",
    "gfc_results = wf.Tile(id_, title, inputs=['No results to display yet'])"
   ]
  },
  {
   "cell_type": "code",
   "execution_count": 4,
   "metadata": {},
   "outputs": [],
   "source": [
    "import ipyvuetify as v\n",
    "\n",
    "#create the output alert \n",
    "gfc_process_output = wf.OutputWidget(GFC_MESSAGE)\n",
    "\n",
    "#create the button that start your process\n",
    "gfc_process_btn = wf.ProcessBtn('Update data')\n",
    "\n",
    "#create the widgets following ipyvuetify requirements \n",
    "gfc_process_slider = v.Slider(\n",
    "    label= 'Threshold', \n",
    "    class_=\"mt-5\", \n",
    "    thumb_label='always', \n",
    "    v_model=30,\n",
    ")\n",
    "\n",
    "gfc_process_inputs = [gfc_process_slider]\n",
    "\n",
    "#bind the widget to the inputs\n",
    "wb.bind(gfc_process_slider, gfc_process_io, 'threshold', gfc_process_output)\n",
    "\n",
    "#create a process tile\n",
    "id_ = \"gfc_process_widget\"\n",
    "title = 'gfc_Process'\n",
    "\n",
    "gfc_process = wf.Tile(\n",
    "    id_, \n",
    "    title, \n",
    "    btn=gfc_process_btn, \n",
    "    inputs=gfc_process_inputs, \n",
    "    output=gfc_process_output\n",
    ")\n",
    "\n",
    "#bind the button to the process by writing a custom function\n",
    "from scripts import run\n",
    "from sepal_ui.scripts import utils\n",
    "from functools import partial\n",
    "\n",
    "def process_start(widget, event, data, output):\n",
    "    \n",
    "    #in order to write the results\n",
    "    global gfc_results\n",
    "    \n",
    "    #debug\n",
    "    asset = 'users/bornToBeAlive/aoi_PU'\n",
    "    #threshold = 20\n",
    "    \n",
    "    #asset = gfc_aoi_IO.assetId\n",
    "    threshold = gfc_process_io.threshold\n",
    "    \n",
    "    #toggle the loading button\n",
    "    utils.toggleLoading(widget)\n",
    "    \n",
    "    #check asset \n",
    "    if not asset: \n",
    "        utils.displayIO(output, NO_AOI, alert_type='error')\n",
    "        utils.toggleLoading(widget)\n",
    "        return \n",
    "    \n",
    "    if not threshold:\n",
    "        utils.displayIO(output, NO_THRESHOLD, alert_type='error')\n",
    "        utils.toggleLoading(widget)\n",
    "        return\n",
    "    \n",
    "    #display the results \n",
    "    result_layout = run.displayGfcResults(asset, threshold, output)\n",
    "    gfc_results.children[0].children = [gfc_results.children[0].children[0]] + result_layout\n",
    "    \n",
    "    #validate the visualization process\n",
    "    setattr(gfc_process_io, 'visualization', True)\n",
    "    \n",
    "    #toggle the loading button\n",
    "    utils.toggleLoading(widget)\n",
    "\n",
    "gfc_process_btn.on_event('click', partial(process_start, output=gfc_process_output))"
   ]
  },
  {
   "cell_type": "code",
   "execution_count": 5,
   "metadata": {},
   "outputs": [],
   "source": [
    "#create the output alert \n",
    "gfc_export_output = wf.OutputWidget(EXPORT_MESSAGE)\n",
    "\n",
    "#create the button that start your process\n",
    "gfc_export_btn = wf.ProcessBtn('Export data')\n",
    "\n",
    "#create a process tile\n",
    "id_ = \"gfc_process_widget\"\n",
    "title = 'gfc_export'\n",
    "\n",
    "gfc_export = wf.Tile(\n",
    "    id_, \n",
    "    title, \n",
    "    btn=gfc_export_btn,\n",
    "    output=gfc_export_output\n",
    ")\n",
    "\n",
    "#bind the button to the process by writing a custom function\n",
    "def export_start(widget, event, data, output):\n",
    "    \n",
    "    #in order to write the results\n",
    "    global gfc_results\n",
    "    \n",
    "    #debug\n",
    "    asset = 'users/bornToBeAlive/aoi_PU'\n",
    "    #threshold = 20\n",
    "    #visualization = False\n",
    "    \n",
    "    #asset = gfc_aoi_IO.assetId\n",
    "    threshold = gfc_process_io.threshold\n",
    "    visualization = gfc_process_io.visualization\n",
    "    \n",
    "    #toggle the loading button\n",
    "    utils.toggleLoading(widget)\n",
    "    \n",
    "    #check input \n",
    "    if not asset: \n",
    "        utils.displayIO(output, NO_AOI, alert_type='error')\n",
    "        utils.toggleLoading(widget)\n",
    "        return \n",
    "    \n",
    "    if not threshold:\n",
    "        utils.displayIO(output, NO_THRESHOLD, alert_type='error')\n",
    "        utils.toggleLoading(widget)\n",
    "        return\n",
    "    \n",
    "    if not visualization: \n",
    "        utils.displayIO(output, NO_VIZ, alert_type='warning')\n",
    "        utils.toggleLoading(widget)\n",
    "        return \n",
    "    \n",
    "    #launch any process you want\n",
    "    clip_map, csv_file = run.gfc_analysis(asset, gfc_process_io.threshold, output)\n",
    "    \n",
    "    setattr(gfc_process_io, 'clip_map', clip_map)\n",
    "    setattr(gfc_process_io, 'csv_file', csv_file)\n",
    "    \n",
    "    #create the links\n",
    "    gfc_download_csv = wf.DownloadBtn('GFC hist values in .csv', path=csv_file)\n",
    "    gfc_download_tif = wf.DownloadBtn('GFC raster in .tif', path=clip_map)\n",
    "    \n",
    "    buttons_row = v.Layout(Row=True, xs12=True, children=[\n",
    "            gfc_download_csv,\n",
    "            gfc_download_tif,\n",
    "        ])\n",
    "    \n",
    "    #replace the disabled buttons links \n",
    "    gfc_results.children[0].children[1].children[0].href = gfc_download_csv.href\n",
    "    gfc_results.children[0].children[1].children[1].href = gfc_download_tif.href\n",
    "    \n",
    "    #enable them\n",
    "    gfc_results.children[0].children[1].children[0].disabled = False\n",
    "    gfc_results.children[0].children[1].children[1].disabled = False\n",
    "    \n",
    "    #toggle the loading button\n",
    "    utils.toggleLoading(widget)\n",
    "\n",
    "gfc_export_btn.on_event('click', partial(export_start, output=gfc_export_output))"
   ]
  },
  {
   "cell_type": "code",
   "execution_count": 6,
   "metadata": {
    "scrolled": false
   },
   "outputs": [
    {
     "data": {
      "application/vnd.jupyter.widget-view+json": {
       "model_id": "221dff41a3ae4158a2f009a993f81325",
       "version_major": 2,
       "version_minor": 0
      },
      "text/plain": [
       "Layout(align_center=True, children=[Card(children=[Html(children=['gfc_Process'], tag='h2'), Flex(children=[La…"
      ]
     },
     "metadata": {},
     "output_type": "display_data"
    }
   ],
   "source": [
    "#this tiles will only be displayed if you launch voila from this file \n",
    "gfc_process"
   ]
  },
  {
   "cell_type": "code",
   "execution_count": 7,
   "metadata": {
    "scrolled": false
   },
   "outputs": [
    {
     "data": {
      "application/vnd.jupyter.widget-view+json": {
       "model_id": "1c8335a387ca4bd3a7d541e94758b302",
       "version_major": 2,
       "version_minor": 0
      },
      "text/plain": [
       "Layout(align_center=True, children=[Card(children=[Html(children=['Results'], tag='h2'), Flex(children=[Layout…"
      ]
     },
     "metadata": {},
     "output_type": "display_data"
    }
   ],
   "source": [
    "#this tiles will only be displayed if you launch voila from this file \n",
    "gfc_results"
   ]
  },
  {
   "cell_type": "code",
   "execution_count": 8,
   "metadata": {
    "scrolled": true
   },
   "outputs": [
    {
     "data": {
      "application/vnd.jupyter.widget-view+json": {
       "model_id": "9fd5c95deeef44d7b5870113f5868af1",
       "version_major": 2,
       "version_minor": 0
      },
      "text/plain": [
       "Layout(align_center=True, children=[Card(children=[Html(children=['gfc_export'], tag='h2'), Flex(children=[Lay…"
      ]
     },
     "metadata": {},
     "output_type": "display_data"
    }
   ],
   "source": [
    "#this tiles will only be displayed if you launch voila from this file \n",
    "gfc_export"
   ]
  },
  {
   "cell_type": "code",
   "execution_count": 9,
   "metadata": {},
   "outputs": [
    {
     "name": "stdout",
     "output_type": "stream",
     "text": [
      "Layout(align_center=True, children=[Flex(children=['No results to display yet'], xs12=True)], class_='pa-5', row=True)\n"
     ]
    }
   ],
   "source": [
    "print(gfc_results.children[0].children[1].children[0])"
   ]
  },
  {
   "cell_type": "code",
   "execution_count": null,
   "metadata": {},
   "outputs": [],
   "source": []
  }
 ],
 "metadata": {
  "kernelspec": {
   "display_name": "Python 3",
   "language": "python",
   "name": "python3"
  },
  "language_info": {
   "codemirror_mode": {
    "name": "ipython",
    "version": 3
   },
   "file_extension": ".py",
   "mimetype": "text/x-python",
   "name": "python",
   "nbconvert_exporter": "python",
   "pygments_lexer": "ipython3",
   "version": "3.6.9"
  }
 },
 "nbformat": 4,
 "nbformat_minor": 4
}
