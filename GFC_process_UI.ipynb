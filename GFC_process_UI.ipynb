{
 "cells": [
  {
   "cell_type": "code",
   "execution_count": null,
   "metadata": {},
   "outputs": [],
   "source": [
    "from sepal_ui import widgetFactory as wf\n",
    "from sepal_ui import widgetBinding as wb\n",
    "\n",
    "#use a class to define your input and output in order to have mutable variables\n",
    "class gfc_process_IO:\n",
    "    def __init__(self):\n",
    "        #set up your inputs\n",
    "        self.threshold = None\n",
    "        \n",
    "        #set up output\n",
    "        self.clip_map = None\n",
    "        self.csv_file = None\n",
    "        \n",
    "gfc_process_io = gfc_process_IO()"
   ]
  },
  {
   "cell_type": "code",
   "execution_count": null,
   "metadata": {},
   "outputs": [],
   "source": [
    "GFC_MESSAGE = 'click on \"Run process\" to launch the process on your GEE account'\n",
    "NO_THRESHOLD = 'No threshold have been selected'\n",
    "NO_AOI = 'No aoi have been provided, select one in step 1'"
   ]
  },
  {
   "cell_type": "code",
   "execution_count": null,
   "metadata": {},
   "outputs": [],
   "source": [
    "#create an empty result tile that will be filled with displayable plot, map, links, text\n",
    "id_ = \"gfc_result_widget\"\n",
    "title = \"Results\"\n",
    "\n",
    "gfc_results = wf.Tile(id_, title, inputs=['No results to display yet'])"
   ]
  },
  {
   "cell_type": "code",
   "execution_count": null,
   "metadata": {},
   "outputs": [],
   "source": [
    "import ipyvuetify as v\n",
    "\n",
    "#create the output alert \n",
    "gfc_process_output = wf.OutputWidget(GFC_MESSAGE)\n",
    "\n",
    "#create the button that start your process\n",
    "gfc_process_btn = wf.ProcessBtn('Run GFC analysis')\n",
    "\n",
    "#create the widgets following ipyvuetify requirements \n",
    "gfc_process_slider = v.Slider(\n",
    "    label= 'Threshold', \n",
    "    class_=\"mt-5\", \n",
    "    thumb_label='always', \n",
    "    v_model=0,\n",
    "    step=5\n",
    ")\n",
    "\n",
    "gfc_process_inputs = [gfc_process_slider]\n",
    "\n",
    "#bind the widget to the inputs\n",
    "wb.bind(gfc_process_slider, gfc_process_io, 'threshold', gfc_process_output)\n",
    "\n",
    "#create a process tile\n",
    "id_ = \"gfc_process_widget\"\n",
    "title = 'gfc_Process'\n",
    "\n",
    "gfc_process = wf.Tile(\n",
    "    id_, \n",
    "    title, \n",
    "    btn=gfc_process_btn, \n",
    "    inputs=gfc_process_inputs, \n",
    "    output=gfc_process_output\n",
    ")"
   ]
  },
  {
   "cell_type": "code",
   "execution_count": null,
   "metadata": {},
   "outputs": [],
   "source": [
    "#bind the button to the process by writing a custom function\n",
    "from scripts import run\n",
    "from sepal_ui.scripts import utils\n",
    "from functools import partial\n",
    "\n",
    "def process_start(widget, event, data, output):\n",
    "    \n",
    "    #in order to write the results\n",
    "    global gfc_results\n",
    "    \n",
    "    #debug\n",
    "    #asset = 'users/bornToBeAlive/aoi_PU'\n",
    "    #threshold = 20\n",
    "    \n",
    "    asset = gfc_aoi_IO.assetId\n",
    "    threshold = gfc_process_io.threshold\n",
    "    \n",
    "    #toggle the loading button\n",
    "    utils.toggleLoading(widget)\n",
    "    \n",
    "    #check asset \n",
    "    if not asset: \n",
    "        utils.displayIO(output, NO_AOI, alert_type='error')\n",
    "        utils.toggleLoading(widget)\n",
    "        return \n",
    "    \n",
    "    if not gfc_process_io.threshold:\n",
    "        utils.displayIO(output, NO_THRESHOLD, alert_type='error')\n",
    "        utils.toggleLoading(widget)\n",
    "        return \n",
    "    \n",
    "    #launch any process you want\n",
    "    clip_map, csv_file = run.gfc_analysis(asset, gfc_process_io.threshold, output)\n",
    "    setattr(gfc_process_io, 'clip_map', clip_map)\n",
    "    setattr(gfc_process_io, 'csv_file', csv_file)\n",
    "    \n",
    "    #display the results \n",
    "    result_layout = run.displayGfcResults(clip_map, csv_file, asset)\n",
    "    gfc_results.children[0].children = [gfc_results.children[0].children[0]] + result_layout\n",
    "    \n",
    "    #toggle the loading button\n",
    "    utils.toggleLoading(widget)\n",
    "\n",
    "gfc_process_btn.on_event('click', partial(process_start, output=gfc_process_output))"
   ]
  },
  {
   "cell_type": "code",
   "execution_count": null,
   "metadata": {
    "scrolled": false
   },
   "outputs": [],
   "source": [
    "#this tiles will only be displayed if you launch voila from this file \n",
    "gfc_process"
   ]
  },
  {
   "cell_type": "code",
   "execution_count": null,
   "metadata": {
    "scrolled": false
   },
   "outputs": [],
   "source": [
    "#this tiles will only be displayed if you launch voila from this file \n",
    "gfc_results"
   ]
  }
 ],
 "metadata": {
  "kernelspec": {
   "display_name": "Python 3",
   "language": "python",
   "name": "python3"
  },
  "language_info": {
   "codemirror_mode": {
    "name": "ipython",
    "version": 3
   },
   "file_extension": ".py",
   "mimetype": "text/x-python",
   "name": "python",
   "nbconvert_exporter": "python",
   "pygments_lexer": "ipython3",
   "version": "3.6.9"
  }
 },
 "nbformat": 4,
 "nbformat_minor": 4
}
