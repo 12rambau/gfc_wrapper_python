{
 "cells": [
  {
   "cell_type": "code",
   "execution_count": null,
   "metadata": {},
   "outputs": [],
   "source": [
    "from functools import partial\n",
    "\n",
    "from sepal_ui import widgetFactory as wf\n",
    "from sepal_ui import widgetBinding as wb\n",
    "from sepal_ui.scripts import utils\n",
    "\n",
    "from scripts import run\n",
    "from utils import mapping"
   ]
  },
  {
   "cell_type": "code",
   "execution_count": null,
   "metadata": {},
   "outputs": [],
   "source": [
    "#this tiles will only be displayed if you launch voila from this file \n",
    "gfc_map"
   ]
  },
  {
   "cell_type": "code",
   "execution_count": null,
   "metadata": {},
   "outputs": [],
   "source": [
    "#this tiles will only be displayed if you launch voila from this file \n",
    "gfc_viz"
   ]
  },
  {
   "cell_type": "code",
   "execution_count": null,
   "metadata": {},
   "outputs": [],
   "source": [
    "#create the output alert \n",
    "gfc_export_output = wf.OutputWidget(EXPORT_MESSAGE)\n",
    "\n",
    "#create the button that start your process\n",
    "gfc_export_btn = wf.ProcessBtn('Export data')\n",
    "\n",
    "#create a process tile\n",
    "id_ = \"gfc_process_widget\"\n",
    "title = 'gfc_export'\n",
    "\n",
    "gfc_export = wf.Tile(\n",
    "    id_, \n",
    "    title, \n",
    "    btn=gfc_export_btn,\n",
    "    output=gfc_export_output\n",
    ")\n",
    "\n",
    "#bind the button to the process by writing a custom function\n",
    "def export_start(widget, event, data, output):\n",
    "    \n",
    "    #in order to write the results\n",
    "    global gfc_results\n",
    "    \n",
    "    #debug\n",
    "    asset = 'users/bornToBeAlive/aoi_PU'\n",
    "    #threshold = 20\n",
    "    #visualization = False\n",
    "    \n",
    "    #asset = gfc_aoi_IO.assetId\n",
    "    threshold = gfc_process_io.threshold\n",
    "    visualization = gfc_process_io.visualization\n",
    "    \n",
    "    #toggle the loading button\n",
    "    utils.toggleLoading(widget)\n",
    "    \n",
    "    #check input \n",
    "    if not asset: \n",
    "        utils.displayIO(output, NO_AOI, alert_type='error')\n",
    "        utils.toggleLoading(widget)\n",
    "        return \n",
    "    \n",
    "    if not threshold:\n",
    "        utils.displayIO(output, NO_THRESHOLD, alert_type='error')\n",
    "        utils.toggleLoading(widget)\n",
    "        return\n",
    "    \n",
    "    if not visualization: \n",
    "        utils.displayIO(output, NO_VIZ, alert_type='warning')\n",
    "        utils.toggleLoading(widget)\n",
    "        return \n",
    "    \n",
    "    #launch any process you want\n",
    "    clip_map, csv_file = run.gfc_analysis(asset, gfc_process_io.threshold, output)\n",
    "    \n",
    "    setattr(gfc_process_io, 'clip_map', clip_map)\n",
    "    setattr(gfc_process_io, 'csv_file', csv_file)\n",
    "    \n",
    "    #create the links\n",
    "    gfc_download_csv = wf.DownloadBtn('GFC hist values in .csv', path=csv_file)\n",
    "    gfc_download_tif = wf.DownloadBtn('GFC raster in .tif', path=clip_map)\n",
    "    \n",
    "    buttons_row = v.Layout(Row=True, xs12=True, children=[\n",
    "            gfc_download_csv,\n",
    "            gfc_download_tif,\n",
    "        ])\n",
    "    \n",
    "    #replace the disabled buttons links \n",
    "    gfc_results.children[0].children[1].children[0].href = gfc_download_csv.href\n",
    "    gfc_results.children[0].children[1].children[1].href = gfc_download_tif.href\n",
    "    \n",
    "    #enable them\n",
    "    gfc_results.children[0].children[1].children[0].disabled = False\n",
    "    gfc_results.children[0].children[1].children[1].disabled = False\n",
    "    \n",
    "    #toggle the loading button\n",
    "    utils.toggleLoading(widget)\n",
    "\n",
    "gfc_export_btn.on_event('click', partial(export_start, output=gfc_export_output))"
   ]
  },
  {
   "cell_type": "code",
   "execution_count": null,
   "metadata": {
    "scrolled": false
   },
   "outputs": [],
   "source": [
    "#this tiles will only be displayed if you launch voila from this file \n",
    "gfc_process"
   ]
  },
  {
   "cell_type": "code",
   "execution_count": null,
   "metadata": {
    "scrolled": false
   },
   "outputs": [],
   "source": [
    "#this tiles will only be displayed if you launch voila from this file \n",
    "gfc_results"
   ]
  },
  {
   "cell_type": "code",
   "execution_count": null,
   "metadata": {
    "scrolled": true
   },
   "outputs": [],
   "source": [
    "#this tiles will only be displayed if you launch voila from this file \n",
    "gfc_export"
   ]
  }
 ],
 "metadata": {
  "kernelspec": {
   "display_name": "Python 3",
   "language": "python",
   "name": "python3"
  },
  "language_info": {
   "codemirror_mode": {
    "name": "ipython",
    "version": 3
   },
   "file_extension": ".py",
   "mimetype": "text/x-python",
   "name": "python",
   "nbconvert_exporter": "python",
   "pygments_lexer": "ipython3",
   "version": "3.6.9"
  }
 },
 "nbformat": 4,
 "nbformat_minor": 4
}
