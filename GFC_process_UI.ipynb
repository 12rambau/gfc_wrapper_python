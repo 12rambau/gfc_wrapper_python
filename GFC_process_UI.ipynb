{
 "cells": [
  {
   "cell_type": "code",
   "execution_count": 1,
   "metadata": {},
   "outputs": [],
   "source": [
    "import ipyvuetify as v\n",
    "from utils import utils"
   ]
  },
  {
   "cell_type": "code",
   "execution_count": 2,
   "metadata": {},
   "outputs": [],
   "source": [
    "#output \n",
    "threshold = None"
   ]
  },
  {
   "cell_type": "code",
   "execution_count": 3,
   "metadata": {},
   "outputs": [],
   "source": [
    "GFC_MESSAGE = 'click on \"Run process\" to launch the process on your GEE account'\n",
    "NO_INPUT = \"The input are not correctly set up, go back to step 1\""
   ]
  },
  {
   "cell_type": "code",
   "execution_count": 4,
   "metadata": {},
   "outputs": [],
   "source": [
    "gfc_process_output = v.Alert(children=[GFC_MESSAGE], type='info', text=True, class_=\"mt-5\")"
   ]
  },
  {
   "cell_type": "code",
   "execution_count": 5,
   "metadata": {},
   "outputs": [],
   "source": [
    "#select the threshold\n",
    "gfc_threshold_slider = v.Slider(label= 'Threshold', class_=\"mt-5\", thumb_label='always', v_model=0)\n",
    "\n",
    "def on_threshold_change(widget, event, data):\n",
    "    global threshold\n",
    "    global gfc_process_output\n",
    "    tmp = widget.v_model\n",
    "    tmp = round(tmp/10)*10\n",
    "    widget.v_model = tmp\n",
    "    threshold = widget.v_model\n",
    "    gfc_process_output.children = [str(threshold)]\n",
    "\n",
    "gfc_threshold_slider.on_event('change', on_threshold_change )"
   ]
  },
  {
   "cell_type": "code",
   "execution_count": 6,
   "metadata": {},
   "outputs": [],
   "source": [
    "#validate the selected data\n",
    "gfc_process_btn = v.Btn(\n",
    "    color='primary', \n",
    "    children=[\n",
    "        v.Icon(left=True, children=['mdi-cogs']),\n",
    "        'Run process'\n",
    "    ]\n",
    ")\n",
    "\n",
    "def gfc_on_click(widget, event, data):\n",
    "    \n",
    "    global gfc_process_output\n",
    "    global asset_name\n",
    "    global threshold\n",
    "    global gfc_process_btn\n",
    "    \n",
    "    #check for the year \n",
    "    if threshold == None or threshold == 0: \n",
    "        utils.displayIO(gee_process_output, 'error','You have forgotten to select a threshold')\n",
    "        return \n",
    "    #check for threshold\n",
    "    if asset_name == None or year == None:\n",
    "        utils.displayIO(gee_process_output, 'error', NO_INPUT)\n",
    "        return \n",
    "    \n",
    "    #do something \n",
    "    utils.toggleLoading(gee_process_btn)\n",
    "    gee_process_output.children=['bouton cliqué']\n",
    "    utils.toggleLoading(gee_process_btn)\n",
    "\n",
    "gfc_process_btn.on_event('click', gfc_on_click)"
   ]
  },
  {
   "cell_type": "code",
   "execution_count": 7,
   "metadata": {},
   "outputs": [
    {
     "data": {
      "application/vnd.jupyter.widget-view+json": {
       "model_id": "83244fda83704b5797410edbf626d072",
       "version_major": 2,
       "version_minor": 0
      },
      "text/plain": [
       "Layout(align_center=True, children=[Card(children=[Html(children=['Step 2: Run the process'], tag='h2'), Flex(…"
      ]
     },
     "metadata": {},
     "output_type": "display_data"
    }
   ],
   "source": [
    "#create the display \n",
    "inputs = v.Layout(\n",
    "    _metadata={'mount-id': 'data-input'},\n",
    "    row=True,\n",
    "    class_=\"pa-5\",\n",
    "    align_center=True, \n",
    "    children=[\n",
    "        v.Flex(xs12=True, children=[gfc_threshold_slider]),\n",
    "        v.Flex(xs12=True, children=[gfc_process_output]),\n",
    "        v.Flex(xs12=True, children=[gfc_process_btn])\n",
    "    ]\n",
    ")\n",
    "#inputs\n",
    "\n",
    "GFC_content_main =  v.Layout(\n",
    "    _metadata={'mount_id': 'gfc_process_widget'},\n",
    "    row=True,\n",
    "    xs12=True,\n",
    "    align_center=True, \n",
    "    class_=\"ma-5 d-inline\",\n",
    "    children=[\n",
    "        v.Card( \n",
    "            class_=\"pa-5\",\n",
    "            raised=True,\n",
    "            xs12=True,\n",
    "            children=[\n",
    "                v.Html(xs12=True, tag='h2', children=['Step 2: Run the process']),\n",
    "                v.Flex(xs12=True, lg6=True, children=[inputs]),   \n",
    "            ]\n",
    "        )\n",
    "    ]\n",
    ")\n",
    "\n",
    "GFC_content_main"
   ]
  }
 ],
 "metadata": {
  "kernelspec": {
   "display_name": "Python 3",
   "language": "python",
   "name": "python3"
  },
  "language_info": {
   "codemirror_mode": {
    "name": "ipython",
    "version": 3
   },
   "file_extension": ".py",
   "mimetype": "text/x-python",
   "name": "python",
   "nbconvert_exporter": "python",
   "pygments_lexer": "ipython3",
   "version": "3.6.9"
  }
 },
 "nbformat": 4,
 "nbformat_minor": 4
}
