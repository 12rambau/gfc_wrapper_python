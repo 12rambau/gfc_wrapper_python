{
 "cells": [
  {
   "cell_type": "code",
   "execution_count": null,
   "metadata": {},
   "outputs": [],
   "source": [
    "%%capture\n",
    "import sys\n",
    "!{sys.executable} -m pip install --upgrade sepal-ui"
   ]
  },
  {
   "cell_type": "code",
   "execution_count": null,
   "metadata": {},
   "outputs": [],
   "source": [
    "from sepal_ui import sepalwidgets as sw"
   ]
  },
  {
   "cell_type": "code",
   "execution_count": null,
   "metadata": {},
   "outputs": [],
   "source": [
    "#create an appBar \n",
    "gfc_appBar = sw.AppBar('Forest change mask')"
   ]
  },
  {
   "cell_type": "code",
   "execution_count": null,
   "metadata": {},
   "outputs": [],
   "source": [
    "#add your tiles\n",
    "%run 'aoi_selector_ui.ipynb'\n",
    "%run 'gfc_map_ui.ipynb'\n",
    "%run 'gfc_export_ui.ipynb'\n",
    "%run 'mspa_process_ui.ipynb'\n",
    "%run 'about_ui.ipynb'\n",
    "\n",
    "gfc_content = [\n",
    "    gfc_aoi, \n",
    "    gfc_viz,\n",
    "    gfc_export,\n",
    "    gfc_results,\n",
    "    mspa_process,\n",
    "    mspa_results,\n",
    "    gfc_about,\n",
    "    gfc_disclaimer\n",
    "]"
   ]
  },
  {
   "cell_type": "code",
   "execution_count": null,
   "metadata": {},
   "outputs": [],
   "source": [
    "#create a drawer \n",
    "item_aoi = sw.DrawerItem('AOI selection', 'mdi-map-marker-check', card=\"aoi_widget\").display_tile(gfc_content)\n",
    "item_gfc_viz = sw.DrawerItem('Visualize forest mask', 'mdi-earth', card=\"gfc_map_widget\").display_tile(gfc_content)\n",
    "item_gfc_export = sw.DrawerItem('Export selected data', 'mdi-export', card=\"gfc_export_widget\").display_tile(gfc_content)\n",
    "item_mspa = sw.DrawerItem('Map fragmentation process', 'mdi-cogs', card=\"mspa_process_widget\").display_tile(gfc_content)\n",
    "item_about = sw.DrawerItem('About', 'mdi-help-circle', card=\"about_widget\").display_tile(gfc_content)\n",
    "\n",
    "code_link = 'https://github.com/openforis/gfc_wrapper_python'\n",
    "wiki_link = 'https://github.com/openforis/gfc_wrapper_python/blob/master/doc/doc.md'\n",
    "issue = 'https://github.com/openforis/gfc_wrapper_python/issues/new'\n",
    "\n",
    "items = [\n",
    "    item_aoi, \n",
    "    item_gfc_viz,\n",
    "    item_gfc_export, \n",
    "    item_mspa,  \n",
    "    item_about\n",
    "]\n",
    "gfc_drawer = sw.NavDrawer(items, code = code_link, wiki = wiki_link, issue = issue).display_drawer(gfc_appBar.toggle_button)"
   ]
  },
  {
   "cell_type": "code",
   "execution_count": null,
   "metadata": {},
   "outputs": [],
   "source": [
    "#build the app \n",
    "gfc_app = sw.App(\n",
    "    tiles=gfc_content, \n",
    "    appBar=gfc_appBar,  \n",
    "    navDrawer=gfc_drawer\n",
    ").show_tile('aoi_widget')"
   ]
  },
  {
   "cell_type": "code",
   "execution_count": null,
   "metadata": {},
   "outputs": [],
   "source": [
    "#display the app\n",
    "gfc_app"
   ]
  }
 ],
 "metadata": {
  "kernelspec": {
   "display_name": "Python 3",
   "language": "python",
   "name": "python3"
  },
  "language_info": {
   "codemirror_mode": {
    "name": "ipython",
    "version": 3
   },
   "file_extension": ".py",
   "mimetype": "text/x-python",
   "name": "python",
   "nbconvert_exporter": "python",
   "pygments_lexer": "ipython3",
   "version": "3.6.9"
  }
 },
 "nbformat": 4,
 "nbformat_minor": 4
}
