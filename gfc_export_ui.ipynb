{
 "cells": [
  {
   "cell_type": "code",
   "execution_count": 1,
   "metadata": {},
   "outputs": [],
   "source": [
    "from functools import partial\n",
    "\n",
    "from sepal_ui import widgetFactory as wf\n",
    "from sepal_ui import widgetBinding as wb\n",
    "from sepal_ui.scripts import utils\n",
    "\n",
    "from scripts import run\n",
    "from utils import messages as ms"
   ]
  },
  {
   "cell_type": "code",
   "execution_count": 2,
   "metadata": {},
   "outputs": [],
   "source": [
    "#use a class to define your input and output in order to have mutable variables\n",
    "class Gfc_export_IO:\n",
    "    def __init__(self):\n",
    "        \n",
    "        #set up output\n",
    "        self.clip_map = None\n",
    "        \n",
    "gfc_export_io = Gfc_export_IO()"
   ]
  },
  {
   "cell_type": "code",
   "execution_count": 3,
   "metadata": {},
   "outputs": [],
   "source": [
    "#create the tile with the links\n",
    "id_ = \"gfc_export_widget\"\n",
    "title = \"Results\"\n",
    "    \n",
    "gfc_results = wf.Tile(id_, title, inputs=[''])"
   ]
  },
  {
   "cell_type": "code",
   "execution_count": 4,
   "metadata": {},
   "outputs": [],
   "source": [
    "import ipyvuetify as v\n",
    "\n",
    "#create the output alert \n",
    "gfc_export_output = wf.OutputWidget(ms.GFC_EXPORT)\n",
    "\n",
    "#create the button that start your process\n",
    "gfc_export_btn = wf.ProcessBtn('Export data')\n",
    "\n",
    "#create a process tile\n",
    "id_ = \"gfc_export_widget\"\n",
    "title = 'Export the data'\n",
    "\n",
    "gfc_export = wf.Tile(\n",
    "    id_, \n",
    "    title, \n",
    "    btn=gfc_export_btn,  \n",
    "    output=gfc_export_output,\n",
    "    inputs=['']\n",
    ")\n",
    "\n",
    "#bind the button to the process by writing a custom function\n",
    "def process_start(widget, event, data, output, gfc_results):\n",
    "    \n",
    "    #debug\n",
    "    #asset = 'users/bornToBeAlive/aoi_PU'\n",
    "    #threshold = 42\n",
    "    #visualization = True\n",
    "    \n",
    "    asset = gfc_aoi_IO.assetId\n",
    "    threshold = gfc_viz_io.threshold\n",
    "    visualization = gfc_viz_io.visualization\n",
    "    \n",
    "    #toggle the loading button\n",
    "    utils.toggleLoading(widget)\n",
    "    \n",
    "    #check inputs\n",
    "    if not wb.checkInput(asset, output, ms.NO_AOI): return utils.toggleLoading(widget)\n",
    "    if not wb.checkInput(threshold, output, ms.NO_THRESHOLD): return utils.toggleLoading(widget)\n",
    "    if not wb.checkInput(visualization, output, ms.NO_VIZ): return utils.toggleLoading(widget)\n",
    "    \n",
    "    #retreive the data\n",
    "    #launch any process you want\n",
    "    clip_map, csv_file, result_layout = run.gfcExport(asset, threshold, output)\n",
    "    \n",
    "    #save the clip_map variable\n",
    "    setattr(gfc_export_io, 'clip_map', clip_map)\n",
    "    \n",
    "    gfc_results.children[0].children = [gfc_results.children[0].children[0]] + result_layout\n",
    "    \n",
    "    #toggle the loading button\n",
    "    return utils.toggleLoading(widget)\n",
    "\n",
    "gfc_export_btn.on_event('click', partial(\n",
    "    process_start, \n",
    "    output = gfc_export_output,\n",
    "    gfc_results = gfc_results\n",
    "))"
   ]
  },
  {
   "cell_type": "code",
   "execution_count": 5,
   "metadata": {
    "scrolled": true
   },
   "outputs": [
    {
     "data": {
      "application/vnd.jupyter.widget-view+json": {
       "model_id": "aed2e316e6cf4cf188983160dcee13bc",
       "version_major": 2,
       "version_minor": 0
      },
      "text/plain": [
       "Layout(align_center=True, children=[Card(children=[Html(children=['Export the data'], tag='h2'), Flex(children…"
      ]
     },
     "metadata": {},
     "output_type": "display_data"
    },
    {
     "name": "stdout",
     "output_type": "stream",
     "text": [
      "gdalwarp /home/prambaud/gfc_wrapper_results/gfc/PU_42_merged_gfc_map.tif /home/prambaud/gfc_wrapper_results/tmp/PU_42_merged_gfc_map_proj.tif -t_srs ESRI:54009\n",
      "Usage: gdalwarp [--help-general] [--formats]\n",
      "\n",
      "    [-s_srs srs_def] [-t_srs srs_def] [-to \"NAME=VALUE\"]* [-novshiftgrid]\n",
      "\n",
      "    [-order n | -tps | -rpc | -geoloc] [-et err_threshold]\n",
      "\n",
      "    [-refine_gcps tolerance [minimum_gcps]]\n",
      "\n",
      "    [-te xmin ymin xmax ymax] [-tr xres yres] [-tap] [-ts width height]\n",
      "\n",
      "    [-ovr level|AUTO|AUTO-n|NONE] [-wo \"NAME=VALUE\"] [-ot Byte/Int16/...] [-wt Byte/Int16]\n",
      "\n",
      "    [-srcnodata \"value [value...]\"] [-dstnodata \"value [value...]\"] -dstalpha\n",
      "\n",
      "    [-r resampling_method] [-wm memory_in_mb] [-multi] [-q]\n",
      "\n",
      "    [-cutline datasource] [-cl layer] [-cwhere expression]\n",
      "\n",
      "    [-csql statement] [-cblend dist_in_pixels] [-crop_to_cutline]\n",
      "\n",
      "    [-of format] [-co \"NAME=VALUE\"]* [-overwrite]\n",
      "\n",
      "    [-nomd] [-cvmd meta_conflict_value] [-setci] [-oo NAME=VALUE]*\n",
      "\n",
      "    [-doo NAME=VALUE]*\n",
      "\n",
      "    srcfile* dstfile\n",
      "\n",
      "\n",
      "\n",
      "Available resampling methods:\n",
      "\n",
      "    near (default), bilinear, cubic, cubicspline, lanczos, average, mode,  max, min, med, Q1, Q3.\n",
      "\n"
     ]
    },
    {
     "ename": "RasterioIOError",
     "evalue": "/home/prambaud/gfc_wrapper_results/tmp/PU_42_merged_gfc_map_proj.tif: No such file or directory",
     "output_type": "error",
     "traceback": [
      "\u001b[0;31m---------------------------------------------------------------------------\u001b[0m",
      "\u001b[0;31mCPLE_OpenFailedError\u001b[0m                      Traceback (most recent call last)",
      "\u001b[0;32mrasterio/_base.pyx\u001b[0m in \u001b[0;36mrasterio._base.DatasetBase.__init__\u001b[0;34m()\u001b[0m\n",
      "\u001b[0;32mrasterio/_shim.pyx\u001b[0m in \u001b[0;36mrasterio._shim.open_dataset\u001b[0;34m()\u001b[0m\n",
      "\u001b[0;32mrasterio/_err.pyx\u001b[0m in \u001b[0;36mrasterio._err.exc_wrap_pointer\u001b[0;34m()\u001b[0m\n",
      "\u001b[0;31mCPLE_OpenFailedError\u001b[0m: /home/prambaud/gfc_wrapper_results/tmp/PU_42_merged_gfc_map_proj.tif: No such file or directory",
      "\nDuring handling of the above exception, another exception occurred:\n",
      "\u001b[0;31mRasterioIOError\u001b[0m                           Traceback (most recent call last)",
      "\u001b[0;32m<ipython-input-4-638a3d0f5f4b>\u001b[0m in \u001b[0;36mprocess_start\u001b[0;34m(widget, event, data, output, gfc_results)\u001b[0m\n\u001b[1;32m     41\u001b[0m     \u001b[0;31m#retreive the data\u001b[0m\u001b[0;34m\u001b[0m\u001b[0;34m\u001b[0m\u001b[0;34m\u001b[0m\u001b[0m\n\u001b[1;32m     42\u001b[0m     \u001b[0;31m#launch any process you want\u001b[0m\u001b[0;34m\u001b[0m\u001b[0;34m\u001b[0m\u001b[0;34m\u001b[0m\u001b[0m\n\u001b[0;32m---> 43\u001b[0;31m     \u001b[0mclip_map\u001b[0m\u001b[0;34m,\u001b[0m \u001b[0mcsv_file\u001b[0m\u001b[0;34m,\u001b[0m \u001b[0mresult_layout\u001b[0m \u001b[0;34m=\u001b[0m \u001b[0mrun\u001b[0m\u001b[0;34m.\u001b[0m\u001b[0mgfcExport\u001b[0m\u001b[0;34m(\u001b[0m\u001b[0masset\u001b[0m\u001b[0;34m,\u001b[0m \u001b[0mthreshold\u001b[0m\u001b[0;34m,\u001b[0m \u001b[0moutput\u001b[0m\u001b[0;34m)\u001b[0m\u001b[0;34m\u001b[0m\u001b[0;34m\u001b[0m\u001b[0m\n\u001b[0m\u001b[1;32m     44\u001b[0m \u001b[0;34m\u001b[0m\u001b[0m\n\u001b[1;32m     45\u001b[0m     \u001b[0;31m#save the clip_map variable\u001b[0m\u001b[0;34m\u001b[0m\u001b[0;34m\u001b[0m\u001b[0;34m\u001b[0m\u001b[0m\n",
      "\u001b[0;32m~/gfc_wrapper_python/scripts/run.py\u001b[0m in \u001b[0;36mgfcExport\u001b[0;34m(assetId, threshold, output)\u001b[0m\n\u001b[1;32m    217\u001b[0m \u001b[0;34m\u001b[0m\u001b[0m\n\u001b[1;32m    218\u001b[0m     \u001b[0mcsv_file\u001b[0m \u001b[0;34m=\u001b[0m \u001b[0mpm\u001b[0m\u001b[0;34m.\u001b[0m\u001b[0mgetStatDir\u001b[0m\u001b[0;34m(\u001b[0m\u001b[0;34m)\u001b[0m \u001b[0;34m+\u001b[0m \u001b[0maoi_name\u001b[0m \u001b[0;34m+\u001b[0m \u001b[0;34m'_{}_gfc_stat.csv'\u001b[0m\u001b[0;34m.\u001b[0m\u001b[0mformat\u001b[0m\u001b[0;34m(\u001b[0m\u001b[0mthreshold\u001b[0m\u001b[0;34m)\u001b[0m\u001b[0;34m\u001b[0m\u001b[0;34m\u001b[0m\u001b[0m\n\u001b[0;32m--> 219\u001b[0;31m     \u001b[0mhist\u001b[0m \u001b[0;34m=\u001b[0m \u001b[0mca\u001b[0m\u001b[0;34m.\u001b[0m\u001b[0mcreate_hist\u001b[0m\u001b[0;34m(\u001b[0m\u001b[0mclip_map\u001b[0m\u001b[0;34m,\u001b[0m \u001b[0massetId\u001b[0m\u001b[0;34m,\u001b[0m \u001b[0moutput\u001b[0m\u001b[0;34m)\u001b[0m\u001b[0;34m\u001b[0m\u001b[0;34m\u001b[0m\u001b[0m\n\u001b[0m\u001b[1;32m    220\u001b[0m \u001b[0;34m\u001b[0m\u001b[0m\n\u001b[1;32m    221\u001b[0m     \u001b[0;32mif\u001b[0m \u001b[0mos\u001b[0m\u001b[0;34m.\u001b[0m\u001b[0mpath\u001b[0m\u001b[0;34m.\u001b[0m\u001b[0misfile\u001b[0m\u001b[0;34m(\u001b[0m\u001b[0mcsv_file\u001b[0m\u001b[0;34m)\u001b[0m\u001b[0;34m:\u001b[0m\u001b[0;34m\u001b[0m\u001b[0;34m\u001b[0m\u001b[0m\n",
      "\u001b[0;32m~/gfc_wrapper_python/scripts/compute_areas.py\u001b[0m in \u001b[0;36mcreate_hist\u001b[0;34m(map_raster, assetId, output)\u001b[0m\n\u001b[1;32m     50\u001b[0m \u001b[0;34m\u001b[0m\u001b[0m\n\u001b[1;32m     51\u001b[0m     \u001b[0;31m#realize a primary hist\u001b[0m\u001b[0;34m\u001b[0m\u001b[0;34m\u001b[0m\u001b[0;34m\u001b[0m\u001b[0m\n\u001b[0;32m---> 52\u001b[0;31m     \u001b[0mhist\u001b[0m \u001b[0;34m=\u001b[0m \u001b[0mutils\u001b[0m\u001b[0;34m.\u001b[0m\u001b[0mpixelCount\u001b[0m\u001b[0;34m(\u001b[0m\u001b[0mmap_raster_proj\u001b[0m\u001b[0;34m)\u001b[0m\u001b[0;34m\u001b[0m\u001b[0;34m\u001b[0m\u001b[0m\n\u001b[0m\u001b[1;32m     53\u001b[0m \u001b[0;34m\u001b[0m\u001b[0m\n\u001b[1;32m     54\u001b[0m     \u001b[0msrc\u001b[0m \u001b[0;34m=\u001b[0m \u001b[0mgdal\u001b[0m\u001b[0;34m.\u001b[0m\u001b[0mOpen\u001b[0m\u001b[0;34m(\u001b[0m\u001b[0mmap_raster_proj\u001b[0m\u001b[0;34m)\u001b[0m\u001b[0;34m\u001b[0m\u001b[0;34m\u001b[0m\u001b[0m\n",
      "\u001b[0;32m~/gfc_wrapper_python/utils/utils.py\u001b[0m in \u001b[0;36mpixelCount\u001b[0;34m(raster)\u001b[0m\n\u001b[1;32m     59\u001b[0m \u001b[0;34m\u001b[0m\u001b[0m\n\u001b[1;32m     60\u001b[0m     \u001b[0;31m#readt the file\u001b[0m\u001b[0;34m\u001b[0m\u001b[0;34m\u001b[0m\u001b[0;34m\u001b[0m\u001b[0m\n\u001b[0;32m---> 61\u001b[0;31m     \u001b[0;32mwith\u001b[0m \u001b[0mrio\u001b[0m\u001b[0;34m.\u001b[0m\u001b[0mopen\u001b[0m\u001b[0;34m(\u001b[0m\u001b[0mraster\u001b[0m\u001b[0;34m)\u001b[0m \u001b[0;32mas\u001b[0m \u001b[0msrc\u001b[0m\u001b[0;34m:\u001b[0m\u001b[0;34m\u001b[0m\u001b[0;34m\u001b[0m\u001b[0m\n\u001b[0m\u001b[1;32m     62\u001b[0m         \u001b[0minfo\u001b[0m \u001b[0;34m=\u001b[0m \u001b[0msrc\u001b[0m\u001b[0;34m.\u001b[0m\u001b[0mread\u001b[0m\u001b[0;34m(\u001b[0m\u001b[0;36m1\u001b[0m\u001b[0;34m,\u001b[0m \u001b[0mmasked\u001b[0m\u001b[0;34m=\u001b[0m\u001b[0;32mTrue\u001b[0m\u001b[0;34m)\u001b[0m\u001b[0;34m\u001b[0m\u001b[0;34m\u001b[0m\u001b[0m\n\u001b[1;32m     63\u001b[0m \u001b[0;34m\u001b[0m\u001b[0m\n",
      "\u001b[0;32m/usr/local/lib/python3.6/dist-packages/rasterio/env.py\u001b[0m in \u001b[0;36mwrapper\u001b[0;34m(*args, **kwds)\u001b[0m\n\u001b[1;32m    431\u001b[0m \u001b[0;34m\u001b[0m\u001b[0m\n\u001b[1;32m    432\u001b[0m         \u001b[0;32mwith\u001b[0m \u001b[0menv_ctor\u001b[0m\u001b[0;34m(\u001b[0m\u001b[0msession\u001b[0m\u001b[0;34m=\u001b[0m\u001b[0msession\u001b[0m\u001b[0;34m)\u001b[0m\u001b[0;34m:\u001b[0m\u001b[0;34m\u001b[0m\u001b[0;34m\u001b[0m\u001b[0m\n\u001b[0;32m--> 433\u001b[0;31m             \u001b[0;32mreturn\u001b[0m \u001b[0mf\u001b[0m\u001b[0;34m(\u001b[0m\u001b[0;34m*\u001b[0m\u001b[0margs\u001b[0m\u001b[0;34m,\u001b[0m \u001b[0;34m**\u001b[0m\u001b[0mkwds\u001b[0m\u001b[0;34m)\u001b[0m\u001b[0;34m\u001b[0m\u001b[0;34m\u001b[0m\u001b[0m\n\u001b[0m\u001b[1;32m    434\u001b[0m \u001b[0;34m\u001b[0m\u001b[0m\n\u001b[1;32m    435\u001b[0m     \u001b[0;32mreturn\u001b[0m \u001b[0mwrapper\u001b[0m\u001b[0;34m\u001b[0m\u001b[0;34m\u001b[0m\u001b[0m\n",
      "\u001b[0;32m/usr/local/lib/python3.6/dist-packages/rasterio/__init__.py\u001b[0m in \u001b[0;36mopen\u001b[0;34m(fp, mode, driver, width, height, count, crs, transform, dtype, nodata, sharing, **kwargs)\u001b[0m\n\u001b[1;32m    216\u001b[0m         \u001b[0;31m# None.\u001b[0m\u001b[0;34m\u001b[0m\u001b[0;34m\u001b[0m\u001b[0;34m\u001b[0m\u001b[0m\n\u001b[1;32m    217\u001b[0m         \u001b[0;32mif\u001b[0m \u001b[0mmode\u001b[0m \u001b[0;34m==\u001b[0m \u001b[0;34m'r'\u001b[0m\u001b[0;34m:\u001b[0m\u001b[0;34m\u001b[0m\u001b[0;34m\u001b[0m\u001b[0m\n\u001b[0;32m--> 218\u001b[0;31m             \u001b[0ms\u001b[0m \u001b[0;34m=\u001b[0m \u001b[0mDatasetReader\u001b[0m\u001b[0;34m(\u001b[0m\u001b[0mpath\u001b[0m\u001b[0;34m,\u001b[0m \u001b[0mdriver\u001b[0m\u001b[0;34m=\u001b[0m\u001b[0mdriver\u001b[0m\u001b[0;34m,\u001b[0m \u001b[0msharing\u001b[0m\u001b[0;34m=\u001b[0m\u001b[0msharing\u001b[0m\u001b[0;34m,\u001b[0m \u001b[0;34m**\u001b[0m\u001b[0mkwargs\u001b[0m\u001b[0;34m)\u001b[0m\u001b[0;34m\u001b[0m\u001b[0;34m\u001b[0m\u001b[0m\n\u001b[0m\u001b[1;32m    219\u001b[0m         \u001b[0;32melif\u001b[0m \u001b[0mmode\u001b[0m \u001b[0;34m==\u001b[0m \u001b[0;34m\"r+\"\u001b[0m\u001b[0;34m:\u001b[0m\u001b[0;34m\u001b[0m\u001b[0;34m\u001b[0m\u001b[0m\n\u001b[1;32m    220\u001b[0m             s = get_writer_for_path(path, driver=driver)(\n",
      "\u001b[0;32mrasterio/_base.pyx\u001b[0m in \u001b[0;36mrasterio._base.DatasetBase.__init__\u001b[0;34m()\u001b[0m\n",
      "\u001b[0;31mRasterioIOError\u001b[0m: /home/prambaud/gfc_wrapper_results/tmp/PU_42_merged_gfc_map_proj.tif: No such file or directory"
     ]
    }
   ],
   "source": [
    "#this tiles will only be displayed if you launch voila from this file \n",
    "gfc_export"
   ]
  },
  {
   "cell_type": "code",
   "execution_count": 6,
   "metadata": {},
   "outputs": [
    {
     "data": {
      "application/vnd.jupyter.widget-view+json": {
       "model_id": "8aaaaf21eec44aef919f6d344d89511a",
       "version_major": 2,
       "version_minor": 0
      },
      "text/plain": [
       "Layout(align_center=True, children=[Card(children=[Html(children=['Results'], tag='h2'), Flex(children=[Layout…"
      ]
     },
     "metadata": {},
     "output_type": "display_data"
    }
   ],
   "source": [
    "#this tiles will only be displayed if you launch voila from this file \n",
    "gfc_results"
   ]
  },
  {
   "cell_type": "code",
   "execution_count": 18,
   "metadata": {},
   "outputs": [
    {
     "name": "stdout",
     "output_type": "stream",
     "text": [
      "about_ui.ipynb\t       gfc_map_ui.ipynb       README.md  utils\n",
      "aoi_selector_ui.ipynb  mspa\t\t      scripts\n",
      "gfc_export_ui.ipynb    mspa_process_ui.ipynb  UI.ipynb\n",
      "ERROR 1: PROJ: proj_get_authorities_from_database: Cannot find proj.db\n",
      "ERROR 1: Translating source or target SRS failed:\n",
      "ESRI:54009\n",
      "Usage: gdalwarp [--help-general] [--formats]\n",
      "    [-s_srs srs_def] [-t_srs srs_def] [-to \"NAME=VALUE\"]* [-novshiftgrid]\n",
      "    [-order n | -tps | -rpc | -geoloc] [-et err_threshold]\n",
      "    [-refine_gcps tolerance [minimum_gcps]]\n",
      "    [-te xmin ymin xmax ymax] [-tr xres yres] [-tap] [-ts width height]\n",
      "    [-ovr level|AUTO|AUTO-n|NONE] [-wo \"NAME=VALUE\"] [-ot Byte/Int16/...] [-wt Byte/Int16]\n",
      "    [-srcnodata \"value [value...]\"] [-dstnodata \"value [value...]\"] -dstalpha\n",
      "    [-r resampling_method] [-wm memory_in_mb] [-multi] [-q]\n",
      "    [-cutline datasource] [-cl layer] [-cwhere expression]\n",
      "    [-csql statement] [-cblend dist_in_pixels] [-crop_to_cutline]\n",
      "    [-of format] [-co \"NAME=VALUE\"]* [-overwrite]\n",
      "    [-nomd] [-cvmd meta_conflict_value] [-setci] [-oo NAME=VALUE]*\n",
      "    [-doo NAME=VALUE]*\n",
      "    srcfile* dstfile\n",
      "\n",
      "Available resampling methods:\n",
      "    near (default), bilinear, cubic, cubicspline, lanczos, average, mode,  max, min, med, Q1, Q3.\n"
     ]
    }
   ],
   "source": [
    "!ls\n",
    "!gdalwarp /home/prambaud/gfc_wrapper_results/gfc/PU_42_merged_gfc_map.tif /home/prambaud/gfc_wrapper_results/tmp/PU_42_merged_gfc_map_proj.tif -t_srs ESRI:54009\n",
    "    "
   ]
  },
  {
   "cell_type": "code",
   "execution_count": 24,
   "metadata": {},
   "outputs": [
    {
     "name": "stdout",
     "output_type": "stream",
     "text": [
      "LC_ALL=en_US.UTF-8\r\n",
      "GDAL_DATA=/usr/share/gdal\r\n",
      "_=/usr/bin/printenv\r\n",
      "LANG=en_US.UTF-8\r\n",
      "SUDO_GID=0\r\n",
      "HOSTNAME=0e8c22b71caa\r\n",
      "SDKMAN_CANDIDATES_API=https://api.sdkman.io/2\r\n",
      "KERNEL_LAUNCH_TIMEOUT=40\r\n",
      "NODE_PATH=:/usr/lib/node_modules:/node_modules\r\n",
      "USERNAME=prambaud\r\n",
      "OPENSARKIT=/usr/local/lib/osk/opensarkit\r\n",
      "JAVA_HOME=/usr/local/lib/sdkman/candidates/java/current\r\n",
      "SUDO_COMMAND=/bin/bash -c python3 /usr/local/bin/jupyter-notebook --no-browser --allow-root --ip=0.0.0.0 --port=8888 --NotebookApp.token= --NotebookApp.base_url=/api/sandbox/jupyter/ --NotebookApp.notebook_dir=/home/prambaud\r\n",
      "R_LIBS_USER=/home/prambaud/.R/library\r\n",
      "S_COLORS=auto\r\n",
      "GROOVY_HOME=/usr/local/lib/sdkman/candidates/groovy/current\r\n",
      "PROJ_LIB=/usr/local/lib/python3.6/dist-packages/rasterio/proj_data\r\n",
      "USER=prambaud\r\n",
      "PAGER=cat\r\n",
      "OST_DB=/usr/local/lib/osk/Database/OFST_db.sqlite\r\n",
      "JPY_PARENT_PID=174\r\n",
      "PWD=/home/prambaud/gfc_wrapper_python\r\n",
      "HOME=/home/prambaud\r\n",
      "CLICOLOR=1\r\n",
      "SNAP_EXE=/usr/local/snap/bin/gpt.sepal\r\n",
      "SUDO_USER=root\r\n",
      "SEPAL=true\r\n",
      "SDKMAN_DIR=/usr/local/lib/sdkman\r\n",
      "SUDO_UID=0\r\n",
      "MAIL=/var/mail/prambaud\r\n",
      "TERM=xterm-color\r\n",
      "SHELL=/bin/bash\r\n",
      "MPLBACKEND=module://ipykernel.pylab.backend_inline\r\n",
      "SDKMAN_CANDIDATES_DIR=/usr/local/lib/sdkman/candidates\r\n",
      "SHLVL=2\r\n",
      "R_LIBS_SITE=/usr/local/lib/R/site-library:/usr/lib/R/site-library:/usr/lib/R/library:/shiny/library\r\n",
      "LOGNAME=prambaud\r\n",
      "PATH=/home/prambaud/.local/bin:/usr/local/lib/sdkman/candidates/java/current/bin:/usr/local/lib/sdkman/candidates/groovy/current/bin:/usr/local/sbin:/usr/local/bin:/usr/sbin:/usr/bin:/sbin:/bin:/snap/bin\r\n",
      "SDKMAN_VERSION=5.8.3+506\r\n",
      "SDKMAN_PLATFORM=Linux64\r\n",
      "GIT_PAGER=cat\r\n"
     ]
    }
   ],
   "source": [
    "!printenv\n",
    "\n"
   ]
  },
  {
   "cell_type": "code",
   "execution_count": 23,
   "metadata": {},
   "outputs": [
    {
     "data": {
      "text/plain": [
       "environ{'LC_ALL': 'en_US.UTF-8',\n",
       "        'GDAL_DATA': '/usr/share/gdal',\n",
       "        'LANG': 'en_US.UTF-8',\n",
       "        'SUDO_GID': '0',\n",
       "        'HOSTNAME': '0e8c22b71caa',\n",
       "        'SDKMAN_CANDIDATES_API': 'https://api.sdkman.io/2',\n",
       "        'NODE_PATH': ':/usr/lib/node_modules:/node_modules',\n",
       "        'USERNAME': 'prambaud',\n",
       "        'OPENSARKIT': '/usr/local/lib/osk/opensarkit',\n",
       "        'JAVA_HOME': '/usr/local/lib/sdkman/candidates/java/current',\n",
       "        'SUDO_COMMAND': '/bin/bash -c python3 /usr/local/bin/jupyter-notebook --no-browser --allow-root --ip=0.0.0.0 --port=8888 --NotebookApp.token= --NotebookApp.base_url=/api/sandbox/jupyter/ --NotebookApp.notebook_dir=/home/prambaud',\n",
       "        'R_LIBS_USER': '/home/prambaud/.R/library',\n",
       "        'S_COLORS': 'auto',\n",
       "        'GROOVY_HOME': '/usr/local/lib/sdkman/candidates/groovy/current',\n",
       "        'USER': 'prambaud',\n",
       "        'OST_DB': '/usr/local/lib/osk/Database/OFST_db.sqlite',\n",
       "        'PWD': '/home/prambaud',\n",
       "        'HOME': '/home/prambaud',\n",
       "        'SNAP_EXE': '/usr/local/snap/bin/gpt.sepal',\n",
       "        'SUDO_USER': 'root',\n",
       "        'SEPAL': 'true',\n",
       "        'SDKMAN_DIR': '/usr/local/lib/sdkman',\n",
       "        'SUDO_UID': '0',\n",
       "        'MAIL': '/var/mail/prambaud',\n",
       "        'SHELL': '/bin/bash',\n",
       "        'TERM': 'xterm-color',\n",
       "        'SDKMAN_CANDIDATES_DIR': '/usr/local/lib/sdkman/candidates',\n",
       "        'SHLVL': '1',\n",
       "        'R_LIBS_SITE': '/usr/local/lib/R/site-library:/usr/lib/R/site-library:/usr/lib/R/library:/shiny/library',\n",
       "        'LOGNAME': 'prambaud',\n",
       "        'PATH': '/home/prambaud/.local/bin:/usr/local/lib/sdkman/candidates/java/current/bin:/usr/local/lib/sdkman/candidates/groovy/current/bin:/usr/local/sbin:/usr/local/bin:/usr/sbin:/usr/bin:/sbin:/bin:/snap/bin',\n",
       "        'SDKMAN_VERSION': '5.8.3+506',\n",
       "        'SDKMAN_PLATFORM': 'Linux64',\n",
       "        '_': '/usr/bin/python3',\n",
       "        'KERNEL_LAUNCH_TIMEOUT': '40',\n",
       "        'JPY_PARENT_PID': '174',\n",
       "        'CLICOLOR': '1',\n",
       "        'PAGER': 'cat',\n",
       "        'GIT_PAGER': 'cat',\n",
       "        'MPLBACKEND': 'module://ipykernel.pylab.backend_inline',\n",
       "        'PROJ_LIB': '/usr/local/lib/python3.6/dist-packages/rasterio/proj_data'}"
      ]
     },
     "execution_count": 23,
     "metadata": {},
     "output_type": "execute_result"
    }
   ],
   "source": [
    "import os\n",
    "\n",
    "os.environ"
   ]
  },
  {
   "cell_type": "code",
   "execution_count": 22,
   "metadata": {},
   "outputs": [],
   "source": [
    "!unset PROJ_LIB"
   ]
  },
  {
   "cell_type": "code",
   "execution_count": null,
   "metadata": {},
   "outputs": [],
   "source": []
  }
 ],
 "metadata": {
  "kernelspec": {
   "display_name": "Python 3",
   "language": "python",
   "name": "python3"
  },
  "language_info": {
   "codemirror_mode": {
    "name": "ipython",
    "version": 3
   },
   "file_extension": ".py",
   "mimetype": "text/x-python",
   "name": "python",
   "nbconvert_exporter": "python",
   "pygments_lexer": "ipython3",
   "version": "3.6.9"
  }
 },
 "nbformat": 4,
 "nbformat_minor": 4
}
