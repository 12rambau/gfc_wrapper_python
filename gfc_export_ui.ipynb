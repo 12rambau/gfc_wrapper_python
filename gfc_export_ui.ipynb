{
 "cells": [
  {
   "cell_type": "code",
   "execution_count": 1,
   "metadata": {},
   "outputs": [],
   "source": [
    "from functools import partial\n",
    "\n",
    "from sepal_ui import widgetFactory as wf\n",
    "from sepal_ui import widgetBinding as wb\n",
    "from sepal_ui.scripts import utils\n",
    "\n",
    "from scripts import run\n",
    "from utils import messages as ms"
   ]
  },
  {
   "cell_type": "code",
   "execution_count": 2,
   "metadata": {},
   "outputs": [],
   "source": [
    "#use a class to define your input and output in order to have mutable variables\n",
    "class Gfc_export_IO:\n",
    "    def __init__(self):\n",
    "        \n",
    "        #set up output\n",
    "        self.clip_map = None\n",
    "        \n",
    "gfc_export_io = Gfc_export_IO()"
   ]
  },
  {
   "cell_type": "code",
   "execution_count": 3,
   "metadata": {},
   "outputs": [],
   "source": [
    "#create the tile with the links\n",
    "id_ = \"gfc_export_widget\"\n",
    "title = \"Results\"\n",
    "    \n",
    "gfc_results = wf.Tile(id_, title, inputs=[''])"
   ]
  },
  {
   "cell_type": "code",
   "execution_count": 4,
   "metadata": {},
   "outputs": [],
   "source": [
    "import ipyvuetify as v\n",
    "\n",
    "#create the output alert \n",
    "gfc_export_output = wf.OutputWidget(ms.GFC_EXPORT)\n",
    "\n",
    "#create the button that start your process\n",
    "gfc_export_btn = wf.ProcessBtn('Export data')\n",
    "\n",
    "#create a process tile\n",
    "id_ = \"gfc_export_widget\"\n",
    "title = 'Export the data'\n",
    "\n",
    "gfc_export = wf.Tile(\n",
    "    id_, \n",
    "    title, \n",
    "    btn=gfc_export_btn,  \n",
    "    output=gfc_export_output,\n",
    "    inputs=['']\n",
    ")\n",
    "\n",
    "#bind the button to the process by writing a custom function\n",
    "def process_start(widget, event, data, output, gfc_results):\n",
    "    \n",
    "    #debug\n",
    "    #asset = 'users/bornToBeAlive/aoi_PU'\n",
    "    #threshold = 20\n",
    "    #visualization = True\n",
    "    \n",
    "    asset = gfc_aoi_IO.assetId\n",
    "    threshold = gfc_viz_io.threshold\n",
    "    visualization = gfc_viz_io.visualization\n",
    "    \n",
    "    #toggle the loading button\n",
    "    utils.toggleLoading(widget)\n",
    "    \n",
    "    #check inputs\n",
    "    if not wb.checkInput(asset, output, ms.NO_AOI): return utils.toggleLoading(widget)\n",
    "    if not wb.checkInput(threshold, output, ms.NO_THRESHOLD): return utils.toggleLoading(widget)\n",
    "    if not wb.checkInput(visualization, output, ms.NO_VIZ): return utils.toggleLoading(widget)\n",
    "    \n",
    "    #retreive the data\n",
    "    #launch any process you want\n",
    "    clip_map, csv_file = run.gfcExport(asset, threshold, output)\n",
    "    \n",
    "    #validate the visualization process\n",
    "    setattr(gfc_export_io, 'clip_map', clip_map)\n",
    "    \n",
    "    #display the results \n",
    "    result_layout = run.displayGfcResults(asset, threshold, output)\n",
    "    gfc_results.children[0].children = [gfc_results.children[0].children[0]] + result_layout\n",
    "    \n",
    "    #create the links\n",
    "    gfc_download_csv = wf.DownloadBtn('csv', path=csv_file)\n",
    "    gfc_download_tif = wf.DownloadBtn('raster', path=clip_map)\n",
    "    \n",
    "    #replace the disabled buttons links \n",
    "    gfc_results.children[0].children[1].children[0].href = gfc_download_csv.href\n",
    "    gfc_results.children[0].children[1].children[1].href = gfc_download_tif.href\n",
    "    \n",
    "    #enable them\n",
    "    gfc_results.children[0].children[1].children[0].disabled = False\n",
    "    gfc_results.children[0].children[1].children[1].disabled = False\n",
    "    \n",
    "    #toggle the loading button\n",
    "    return utils.toggleLoading(widget)\n",
    "\n",
    "gfc_export_btn.on_event('click', partial(\n",
    "    process_start, \n",
    "    output = gfc_export_output,\n",
    "    gfc_results = gfc_results\n",
    "))"
   ]
  },
  {
   "cell_type": "code",
   "execution_count": 5,
   "metadata": {},
   "outputs": [
    {
     "data": {
      "application/vnd.jupyter.widget-view+json": {
       "model_id": "a22a809b40254215a26a4ec0290e7a01",
       "version_major": 2,
       "version_minor": 0
      },
      "text/plain": [
       "Layout(align_center=True, children=[Card(children=[Html(children=['Export the data'], tag='h2'), Flex(children…"
      ]
     },
     "metadata": {},
     "output_type": "display_data"
    }
   ],
   "source": [
    "#this tiles will only be displayed if you launch voila from this file \n",
    "gfc_export"
   ]
  },
  {
   "cell_type": "code",
   "execution_count": 6,
   "metadata": {},
   "outputs": [
    {
     "data": {
      "application/vnd.jupyter.widget-view+json": {
       "model_id": "1b98f74a03594aada2285d4083580147",
       "version_major": 2,
       "version_minor": 0
      },
      "text/plain": [
       "Layout(align_center=True, children=[Card(children=[Html(children=['Results'], tag='h2'), Flex(children=[Layout…"
      ]
     },
     "metadata": {},
     "output_type": "display_data"
    }
   ],
   "source": [
    "#this tiles will only be displayed if you launch voila from this file \n",
    "gfc_results"
   ]
  }
 ],
 "metadata": {
  "kernelspec": {
   "display_name": "Python 3",
   "language": "python",
   "name": "python3"
  },
  "language_info": {
   "codemirror_mode": {
    "name": "ipython",
    "version": 3
   },
   "file_extension": ".py",
   "mimetype": "text/x-python",
   "name": "python",
   "nbconvert_exporter": "python",
   "pygments_lexer": "ipython3",
   "version": "3.6.9"
  }
 },
 "nbformat": 4,
 "nbformat_minor": 4
}
