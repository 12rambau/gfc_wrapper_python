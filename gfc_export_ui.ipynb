{
 "cells": [
  {
   "cell_type": "code",
   "execution_count": null,
   "metadata": {},
   "outputs": [],
   "source": [
    "from functools import partial\n",
    "import ipyvuetify as v\n",
    "from sepal_ui import sepalwidgets as sw\n",
    "from pathlib import Path\n",
    "\n",
    "from scripts import run\n",
    "from utils import utils\n",
    "from utils import messages as ms\n",
    "from utils import parameters as pm"
   ]
  },
  {
   "cell_type": "code",
   "execution_count": null,
   "metadata": {},
   "outputs": [],
   "source": [
    "#use a class to define your input and output in order to have mutable variables\n",
    "class Gfc_export_io:\n",
    "    def __init__(self):\n",
    "        #set up output\n",
    "        self.clip_map = None\n",
    "        self.proj_map = None\n",
    "        \n",
    "gfc_export_io = Gfc_export_io()"
   ]
  },
  {
   "cell_type": "code",
   "execution_count": null,
   "metadata": {},
   "outputs": [],
   "source": [
    "#create the tile with the links\n",
    "id_ = \"gfc_export_widget\"\n",
    "title = \"Results\"\n",
    "    \n",
    "gfc_results = sw.Tile(id_, title, inputs=[''])"
   ]
  },
  {
   "cell_type": "code",
   "execution_count": null,
   "metadata": {},
   "outputs": [],
   "source": [
    "#create the output alert \n",
    "gfc_export_output = sw.Alert()#.add_msg(ms.GFC_EXPORT)\n",
    "\n",
    "#create the button that start your process\n",
    "gfc_export_btn = sw.Btn('Export data')\n",
    "\n",
    "#create a process tile\n",
    "id_ = \"gfc_export_widget\"\n",
    "title = 'Export the data'\n",
    "\n",
    "gfc_export = sw.Tile(\n",
    "    id_, \n",
    "    title, \n",
    "    btn=gfc_export_btn,  \n",
    "    output=gfc_export_output,\n",
    "    inputs=['']\n",
    ")\n",
    "\n",
    "#bind the button to the process by writing a custom function\n",
    "def process_start(widget, event, data, output, gfc_results):\n",
    "    \n",
    "    asset = gfc_aoi_io.assetId\n",
    "    threshold = gfc_viz_io.threshold\n",
    "    visualization = gfc_viz_io.visualization\n",
    "    \n",
    "    #toggle the loading button\n",
    "    widget.toggle_loading()\n",
    "    \n",
    "    #check inputs\n",
    "    if not output.check_input(asset, ms.NO_AOI): return widget.toggle_loading()\n",
    "    if not output.check_input(threshold, ms.NO_THRESHOLD): return widget.toggle_loading()\n",
    "    if not output.check_input(visualization, ms.NO_VIZ): return widget.toggle_loading()\n",
    "    \n",
    "    try:\n",
    "        #retreive the data\n",
    "        clip_map, csv_file, result_layout = run.gfcExport(asset, threshold, output)\n",
    "        \n",
    "        #save the clip_map variable\n",
    "        setattr(gfc_export_io, 'clip_map', clip_map)\n",
    "        setattr(gfc_export_io, 'proj_map', pm.getGfcDir() + Path(clip_map).stem + '_proj.tif')\n",
    "    \n",
    "        gfc_results.set_content(result_layout)\n",
    "        \n",
    "    except Exception as e: \n",
    "        output.add_live_msg(str(e), 'error')\n",
    "        \n",
    "    #toggle the loading button\n",
    "    widget.toggle_loading()\n",
    "    \n",
    "    return \n",
    "\n",
    "gfc_export_btn.on_event('click', partial(\n",
    "    process_start, \n",
    "    output = gfc_export_output,\n",
    "    gfc_results = gfc_results\n",
    "))"
   ]
  },
  {
   "cell_type": "code",
   "execution_count": null,
   "metadata": {
    "scrolled": true
   },
   "outputs": [],
   "source": [
    "#this tiles will only be displayed if you launch voila from this file \n",
    "gfc_export"
   ]
  },
  {
   "cell_type": "code",
   "execution_count": null,
   "metadata": {},
   "outputs": [],
   "source": [
    "#this tiles will only be displayed if you launch voila from this file \n",
    "gfc_results"
   ]
  }
 ],
 "metadata": {
  "kernelspec": {
   "display_name": "Python 3",
   "language": "python",
   "name": "python3"
  },
  "language_info": {
   "codemirror_mode": {
    "name": "ipython",
    "version": 3
   },
   "file_extension": ".py",
   "mimetype": "text/x-python",
   "name": "python",
   "nbconvert_exporter": "python",
   "pygments_lexer": "ipython3",
   "version": "3.6.9"
  }
 },
 "nbformat": 4,
 "nbformat_minor": 4
}
