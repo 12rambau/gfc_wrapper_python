{
 "cells": [
  {
   "cell_type": "code",
   "execution_count": 1,
   "metadata": {},
   "outputs": [],
   "source": [
    "#create a rootDir and initialize ee and set up a map\n",
    "import ee \n",
    "import os\n",
    "import geemap\n",
    "\n",
    "ee.Initialize()\n",
    "\n",
    "rootDir = os.path.expanduser('~') + '/'\n",
    "resultDir = rootDir + 'gfc_results/'\n",
    "\n",
    "Map = geemap.Map()"
   ]
  },
  {
   "cell_type": "code",
   "execution_count": 2,
   "metadata": {
    "scrolled": true
   },
   "outputs": [],
   "source": [
    "#load false aoi\n",
    "from utils import utils\n",
    "asset = 'users/bornToBeAlive/aoi_PU'\n",
    "aoi_name = utils.get_aoi_name(asset)\n",
    "\n",
    "#display on the map\n",
    "aoi = ee.FeatureCollection(asset)\n",
    "Map.addLayer(aoi, {}, 'aoi_name')   \n",
    "Map.centerObject(aoi, 8)"
   ]
  },
  {
   "cell_type": "code",
   "execution_count": 3,
   "metadata": {},
   "outputs": [
    {
     "data": {
      "text/plain": [
       "'/home/prambaud/gfc_wrapper_results/downloads/PU.shp'"
      ]
     },
     "execution_count": 3,
     "metadata": {},
     "output_type": "execute_result"
    }
   ],
   "source": [
    "#create the shp file \n",
    "from scripts import make_aoi_shp\n",
    "\n",
    "make_aoi_shp.make_aoi_shp(asset)"
   ]
  },
  {
   "cell_type": "code",
   "execution_count": 4,
   "metadata": {},
   "outputs": [
    {
     "data": {
      "text/plain": [
       "'/home/prambaud/gfc_wrapper_results/downloads/PU_tandem.tif'"
      ]
     },
     "execution_count": 4,
     "metadata": {},
     "output_type": "execute_result"
    }
   ],
   "source": [
    "from scripts import download_merge_glad as dmg\n",
    "from scripts import download_merge_tandem as dmt\n",
    "from utils import parameters as pm\n",
    "from utils import utils\n",
    "import os\n",
    "\n",
    "#create false aoi\n",
    "asset = 'users/bornToBeAlive/aoi_PU'\n",
    "aoi_name = utils.get_aoi_name(asset)\n",
    "\n",
    "\n",
    "dwnl_dir = pm.getDwnDir()\n",
    "\n",
    "#load the Hansen_GFC-2019-v1.7\n",
    "types = pm.getTypes()\n",
    "prefix = \"https://storage.googleapis.com/earthenginepartners-hansen/GFC-2019-v1.7/Hansen_GFC-2019-v1.7_\"\n",
    "for type in types:\n",
    "    pattern = prefix + type + \"_{0}_{1}.tif\"\n",
    "    name = aoi_name+'_' + type\n",
    "    dmg.download_merge(asset, pattern, dwnl_dir, name)\n",
    "    \n",
    "#load the tcc2010\n",
    "prefix = \"https://glad.umd.edu/Potapov/TCC_2010/treecover2010_\"\n",
    "pattern = prefix + '{0}_{1}.tif'\n",
    "name = aoi_name+'_'+'treecover2010'\n",
    "dmg.download_merge(asset, pattern, dwnl_dir, name)\n",
    "\n",
    "#load the tandem tiles\n",
    "pattern = \"https://download.geoservice.dlr.de/FNF50/files/\"\n",
    "name = aoi_name+'_'+'tandem'\n",
    "dmt.download_merge(asset, pattern, dwnl_dir, name)"
   ]
  },
  {
   "cell_type": "code",
   "execution_count": 5,
   "metadata": {},
   "outputs": [
    {
     "data": {
      "text/plain": [
       "'Glad 2010 map already performed'"
      ]
     },
     "execution_count": 5,
     "metadata": {},
     "output_type": "execute_result"
    }
   ],
   "source": [
    "from scripts import make_map_Glad2010\n",
    "\n",
    "#create false aoi\n",
    "asset = 'users/bornToBeAlive/aoi_PU'\n",
    "threshold = 20\n",
    "\n",
    "make_map_Glad2010.make_map_Glad2010(asset, threshold)"
   ]
  },
  {
   "cell_type": "code",
   "execution_count": 6,
   "metadata": {},
   "outputs": [
    {
     "data": {
      "text/plain": [
       "'gfc map threshold already performed'"
      ]
     },
     "execution_count": 6,
     "metadata": {},
     "output_type": "execute_result"
    }
   ],
   "source": [
    "from scripts import make_map_threshold\n",
    "\n",
    "#create false aoi\n",
    "asset = 'users/bornToBeAlive/aoi_PU'\n",
    "threshold = 20\n",
    "\n",
    "make_map_threshold.make_map_threshold(asset, threshold)"
   ]
  },
  {
   "cell_type": "code",
   "execution_count": 7,
   "metadata": {},
   "outputs": [
    {
     "data": {
      "text/plain": [
       "'gfc clump map already performed'"
      ]
     },
     "execution_count": 7,
     "metadata": {},
     "output_type": "execute_result"
    }
   ],
   "source": [
    "from scripts import make_map_threshold_clump\n",
    "\n",
    "#create false aoi\n",
    "asset = 'users/bornToBeAlive/aoi_PU'\n",
    "threshold = 20\n",
    "\n",
    "make_map_threshold_clump.make_map_threshold_clump(asset, threshold)"
   ]
  },
  {
   "cell_type": "code",
   "execution_count": 13,
   "metadata": {},
   "outputs": [
    {
     "name": "stdout",
     "output_type": "stream",
     "text": [
      "stats already computed\n"
     ]
    },
    {
     "data": {
      "image/png": "[encoded data removed]",
      "text/plain": [
       "<Figure size 432x288 with 1 Axes>"
      ]
     },
     "metadata": {},
     "output_type": "display_data"
    }
   ],
   "source": [
    "from scripts import compute_areas\n",
    "\n",
    "#create false aoi\n",
    "asset = 'users/bornToBeAlive/aoi_PU'\n",
    "threshold = 20\n",
    "\n",
    "file = compute_areas.compute_areas(asset, threshold)\n",
    "\n",
    "import pandas as pd\n",
    "import matplotlib.pyplot as plt\n",
    "plt.style.use(['seaborn-deep'])\n",
    "df = pd.read_csv(file)\n",
    "df.plot(x ='code', y='area', kind = 'bar')\n",
    "plt.show()"
   ]
  },
  {
   "cell_type": "code",
   "execution_count": null,
   "metadata": {},
   "outputs": [],
   "source": []
  }
 ],
 "metadata": {
  "kernelspec": {
   "display_name": "Python 3",
   "language": "python",
   "name": "python3"
  },
  "language_info": {
   "codemirror_mode": {
    "name": "ipython",
    "version": 3
   },
   "file_extension": ".py",
   "mimetype": "text/x-python",
   "name": "python",
   "nbconvert_exporter": "python",
   "pygments_lexer": "ipython3",
   "version": "3.6.9"
  }
 },
 "nbformat": 4,
 "nbformat_minor": 4
}
