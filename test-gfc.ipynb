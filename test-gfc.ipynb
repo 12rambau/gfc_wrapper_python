{
 "cells": [
  {
   "cell_type": "code",
   "execution_count": 10,
   "metadata": {},
   "outputs": [],
   "source": [
    "############### create a shp file for the aoi\n",
    "from utils import utils\n",
    "import ee \n",
    "import geemap\n",
    "import shapely.geometry as sg\n",
    "from osgeo import ogr\n",
    "\n",
    "ee.Initialize()\n",
    "\n",
    "\n",
    "#create false aoi\n",
    "asset = 'users/bornToBeAlive/aoi_PU'\n",
    "aoi_name = utils.get_aoi_name(asset)\n",
    "\n",
    "aoi = ee.FeatureCollection(asset)\n",
    "aoiJson = geemap.ee_to_geojson(aoi)\n",
    "aoiShp = sg.shape(aoiJson['features'][0]['geometry'])\n",
    "\n",
    "# Now convert it to a shapefile with OGR    \n",
    "driver = ogr.GetDriverByName('Esri Shapefile')\n",
    "ds = driver.CreateDataSource('my.shp')\n",
    "layer = ds.CreateLayer('', None, ogr.wkbPolygon)\n",
    "# Add one attribute\n",
    "layer.CreateField(ogr.FieldDefn('id', ogr.OFTInteger))\n",
    "defn = layer.GetLayerDefn()\n",
    "\n",
    "## If there are multiple geometries, put the \"for\" loop here\n",
    "\n",
    "# Create a new feature (attribute and geometry)\n",
    "feat = ogr.Feature(defn)\n",
    "feat.SetField('id', 123)\n",
    "\n",
    "# Make a geometry, from Shapely object\n",
    "geom = ogr.CreateGeometryFromWkb(aoiShp.wkb)\n",
    "feat.SetGeometry(geom)\n",
    "\n",
    "layer.CreateFeature(feat)\n",
    "feat = geom = None  # destroy these\n",
    "\n",
    "# Save and close everything\n",
    "ds = layer = feat = geom = None\n",
    "\n",
    "#data = geojson.loads(response.read())\n",
    "#\n",
    "#with open('data.geojson', 'w') as f:\n",
    "#    geojson.dump(data, f)\n",
    "#\n",
    "#args = ['ogr2ogr', '-f', 'ESRI Shapefile', 'destination_data.shp', 'data.geojson']\n",
    "#subprocess.Popen(args)"
   ]
  },
  {
   "cell_type": "code",
   "execution_count": null,
   "metadata": {
    "scrolled": false
   },
   "outputs": [],
   "source": [
    "from scripts import download_merge_glad as dmg\n",
    "from scripts import download_merge_tandem as dmt\n",
    "from utils import parameters as param\n",
    "from utils import utils\n",
    "import os\n",
    "\n",
    "#create false aoi\n",
    "asset = 'users/bornToBeAlive/aoi_PU'\n",
    "aoi_name = utils.get_aoi_name(asset)\n",
    "\n",
    "\n",
    "dwnl_dir = param.getDwnDir()\n",
    "\n",
    "#load the Hansen_GFC-2019-v1.7\n",
    "types = param.getTypes()\n",
    "prefix = \"https://storage.googleapis.com/earthenginepartners-hansen/GFC-2019-v1.7/Hansen_GFC-2019-v1.7_\"\n",
    "for type in types:\n",
    "    pattern = prefix + type + \"_{0}_{1}.tif\"\n",
    "    name = aoi_name+'_' + type\n",
    "    dmg.download_merge(asset, pattern, dwnl_dir, name)\n",
    "    \n",
    "#load the tcc2010\n",
    "prefix = \"https://glad.umd.edu/Potapov/TCC_2010/treecover2010_\"\n",
    "pattern = prefix + '{0}_{1}.tif'\n",
    "name = aoi_name+'_'+'treecover2010'\n",
    "dmg.download_merge(asset, pattern, dwnl_dir, name)\n",
    "\n",
    "#load the tandem tiles\n",
    "pattern = \"https://download.geoservice.dlr.de/FNF50/files/\"\n",
    "name = aoi_name+'_'+'tandem'\n",
    "dmt.download_merge(asset, pattern, dwnl_dir, name)\n",
    "\n"
   ]
  },
  {
   "cell_type": "code",
   "execution_count": 1,
   "metadata": {},
   "outputs": [
    {
     "name": "stdout",
     "output_type": "stream",
     "text": [
      "/home/prambaud/gfc_wrapper_python/gfc/PU_100_map_clip.tif\n",
      "False\n",
      "GEOGCS[\"WGS 84\",\n",
      "    DATUM[\"WGS_1984\",\n",
      "        SPHEROID[\"WGS 84\",6378137,298.257223563,\n",
      "            AUTHORITY[\"EPSG\",\"7030\"]],\n",
      "        AUTHORITY[\"EPSG\",\"6326\"]],\n",
      "    PRIMEM[\"Greenwich\",0],\n",
      "    UNIT[\"degree\",0.0174532925199433,\n",
      "        AUTHORITY[\"EPSG\",\"9122\"]],\n",
      "    AXIS[\"Latitude\",NORTH],\n",
      "    AXIS[\"Longitude\",EAST],\n",
      "    AUTHORITY[\"EPSG\",\"4326\"]]\n",
      "GEOGCS[\"WGS 84\",\n",
      "    DATUM[\"WGS_1984\",\n",
      "        SPHEROID[\"WGS 84\",6378137,298.257223563,\n",
      "            AUTHORITY[\"EPSG\",\"7030\"]],\n",
      "        AUTHORITY[\"EPSG\",\"6326\"]],\n",
      "    PRIMEM[\"Greenwich\",0],\n",
      "    UNIT[\"degree\",0.0174532925199433,\n",
      "        AUTHORITY[\"EPSG\",\"9122\"]],\n",
      "    AXIS[\"Latitude\",NORTH],\n",
      "    AXIS[\"Longitude\",EAST],\n",
      "    AUTHORITY[\"EPSG\",\"4326\"]]\n",
      "[-17, 10, -13, 13]\n"
     ]
    },
    {
     "data": {
      "text/plain": [
       "'toto'"
      ]
     },
     "execution_count": 1,
     "metadata": {},
     "output_type": "execute_result"
    }
   ],
   "source": [
    "from scripts import make_map_Glad2010\n",
    "\n",
    "#make the GLAD2010 map\n",
    "threshold = 100\n",
    "asset = 'users/bornToBeAlive/aoi_PU'\n",
    "\n",
    "make_map_Glad2010.make_map_Glad2010(asset, threshold)\n"
   ]
  },
  {
   "cell_type": "code",
   "execution_count": null,
   "metadata": {},
   "outputs": [],
   "source": [
    "dic = {'toto': 10, 'tutu':20, 'tata':30}\n",
    "for value in dic:\n",
    "    print ('value : {}'.format(value))\n",
    "    "
   ]
  },
  {
   "cell_type": "code",
   "execution_count": null,
   "metadata": {},
   "outputs": [],
   "source": []
  }
 ],
 "metadata": {
  "kernelspec": {
   "display_name": "Python 3",
   "language": "python",
   "name": "python3"
  },
  "language_info": {
   "codemirror_mode": {
    "name": "ipython",
    "version": 3
   },
   "file_extension": ".py",
   "mimetype": "text/x-python",
   "name": "python",
   "nbconvert_exporter": "python",
   "pygments_lexer": "ipython3",
   "version": "3.6.9"
  }
 },
 "nbformat": 4,
 "nbformat_minor": 4
}
