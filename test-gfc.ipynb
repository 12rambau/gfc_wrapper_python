{
 "cells": [
  {
   "cell_type": "code",
   "execution_count": 1,
   "metadata": {},
   "outputs": [],
   "source": [
    "#create a rootDir and initialize ee and set up a map\n",
    "import ee \n",
    "import os\n",
    "import geemap\n",
    "\n",
    "ee.Initialize()\n",
    "\n",
    "rootDir = os.path.expanduser('~') + '/'\n",
    "resultDir = rootDir + 'gfc_results/'\n",
    "\n",
    "Map = geemap.Map()"
   ]
  },
  {
   "cell_type": "code",
   "execution_count": 2,
   "metadata": {
    "scrolled": true
   },
   "outputs": [],
   "source": [
    "#load false aoi\n",
    "from utils import utils\n",
    "asset = 'users/bornToBeAlive/aoi_PU'\n",
    "aoi_name = utils.get_aoi_name(asset)\n",
    "\n",
    "#display on the map\n",
    "aoi = ee.FeatureCollection(asset)\n",
    "Map.addLayer(aoi, {}, 'aoi_name')   \n",
    "Map.centerObject(aoi, 8)"
   ]
  },
  {
   "cell_type": "code",
   "execution_count": 3,
   "metadata": {},
   "outputs": [
    {
     "data": {
      "text/plain": [
       "'/home/prambaud/gfc_wrapper_results/downloads/PU.shp'"
      ]
     },
     "execution_count": 3,
     "metadata": {},
     "output_type": "execute_result"
    }
   ],
   "source": [
    "#create the shp file \n",
    "from scripts import make_aoi_shp\n",
    "\n",
    "make_aoi_shp.make_aoi_shp(asset)"
   ]
  },
  {
   "cell_type": "code",
   "execution_count": 4,
   "metadata": {},
   "outputs": [
    {
     "data": {
      "text/plain": [
       "'/home/prambaud/gfc_wrapper_results/downloads/PU_tandem.tif'"
      ]
     },
     "execution_count": 4,
     "metadata": {},
     "output_type": "execute_result"
    }
   ],
   "source": [
    "from scripts import download_merge_glad as dmg\n",
    "from scripts import download_merge_tandem as dmt\n",
    "from utils import parameters as pm\n",
    "from utils import utils\n",
    "import os\n",
    "\n",
    "#create false aoi\n",
    "asset = 'users/bornToBeAlive/aoi_PU'\n",
    "aoi_name = utils.get_aoi_name(asset)\n",
    "\n",
    "\n",
    "dwnl_dir = pm.getDwnDir()\n",
    "\n",
    "#load the Hansen_GFC-2019-v1.7\n",
    "types = pm.getTypes()\n",
    "prefix = \"https://storage.googleapis.com/earthenginepartners-hansen/GFC-2019-v1.7/Hansen_GFC-2019-v1.7_\"\n",
    "for type in types:\n",
    "    pattern = prefix + type + \"_{0}_{1}.tif\"\n",
    "    name = aoi_name+'_' + type\n",
    "    dmg.download_merge(asset, pattern, dwnl_dir, name)\n",
    "    \n",
    "#load the tcc2010\n",
    "prefix = \"https://glad.umd.edu/Potapov/TCC_2010/treecover2010_\"\n",
    "pattern = prefix + '{0}_{1}.tif'\n",
    "name = aoi_name+'_'+'treecover2010'\n",
    "dmg.download_merge(asset, pattern, dwnl_dir, name)\n",
    "\n",
    "#load the tandem tiles\n",
    "pattern = \"https://download.geoservice.dlr.de/FNF50/files/\"\n",
    "name = aoi_name+'_'+'tandem'\n",
    "dmt.download_merge(asset, pattern, dwnl_dir, name)"
   ]
  },
  {
   "cell_type": "code",
   "execution_count": 5,
   "metadata": {},
   "outputs": [
    {
     "data": {
      "text/plain": [
       "'Glad 2010 map already performed'"
      ]
     },
     "execution_count": 5,
     "metadata": {},
     "output_type": "execute_result"
    }
   ],
   "source": [
    "from scripts import make_map_Glad2010\n",
    "\n",
    "#create false aoi\n",
    "asset = 'users/bornToBeAlive/aoi_PU'\n",
    "threshold = 20\n",
    "\n",
    "make_map_Glad2010.make_map_Glad2010(asset, threshold)"
   ]
  },
  {
   "cell_type": "code",
   "execution_count": 6,
   "metadata": {},
   "outputs": [
    {
     "data": {
      "text/plain": [
       "'gfc map threshold already performed'"
      ]
     },
     "execution_count": 6,
     "metadata": {},
     "output_type": "execute_result"
    }
   ],
   "source": [
    "from scripts import make_map_threshold\n",
    "\n",
    "#create false aoi\n",
    "asset = 'users/bornToBeAlive/aoi_PU'\n",
    "threshold = 20\n",
    "\n",
    "make_map_threshold.make_map_threshold(asset, threshold)"
   ]
  },
  {
   "cell_type": "code",
   "execution_count": 7,
   "metadata": {},
   "outputs": [
    {
     "data": {
      "text/plain": [
       "'gfc clump map already performed'"
      ]
     },
     "execution_count": 7,
     "metadata": {},
     "output_type": "execute_result"
    }
   ],
   "source": [
    "from scripts import make_map_threshold_clump\n",
    "\n",
    "#create false aoi\n",
    "asset = 'users/bornToBeAlive/aoi_PU'\n",
    "threshold = 20\n",
    "\n",
    "make_map_threshold_clump.make_map_threshold_clump(asset, threshold)"
   ]
  },
  {
   "cell_type": "code",
   "execution_count": 8,
   "metadata": {},
   "outputs": [
    {
     "name": "stdout",
     "output_type": "stream",
     "text": [
      "stats already computed\n"
     ]
    },
    {
     "data": {
      "image/png": "[encoded data removed]",
      "text/plain": [
       "<Figure size 432x288 with 1 Axes>"
      ]
     },
     "metadata": {
      "needs_background": "light"
     },
     "output_type": "display_data"
    }
   ],
   "source": [
    "from scripts import compute_areas\n",
    "import pandas as pd\n",
    "\n",
    "#create false aoi\n",
    "asset = 'users/bornToBeAlive/aoi_PU'\n",
    "threshold = 20\n",
    "\n",
    "file = compute_areas.compute_areas(asset, threshold)\n",
    "\n",
    "df = pd.read_csv(file)\n",
    "df"
   ]
  },
  {
   "cell_type": "code",
   "execution_count": 9,
   "metadata": {},
   "outputs": [],
   "source": [
    "#######################################\n",
    "#####   probleme de taille lié  à la val max (mer 255)\n",
    "######################################\n",
    "\n",
    "\n",
    "#from scripts import compute_areas_by_zone\n",
    "#\n",
    "##create false aoi\n",
    "#asset = 'users/bornToBeAlive/aoi_PU'\n",
    "#threshold = 20\n",
    "#\n",
    "#compute_areas_by_zone.compute_areas_by_zone(asset, threshold)"
   ]
  },
  {
   "cell_type": "code",
   "execution_count": 11,
   "metadata": {},
   "outputs": [
    {
     "name": "stdout",
     "output_type": "stream",
     "text": [
      "stats already computed\n"
     ]
    },
    {
     "data": {
      "text/html": [
       "<div>\n",
       "<style scoped>\n",
       "    .dataframe tbody tr th:only-of-type {\n",
       "        vertical-align: middle;\n",
       "    }\n",
       "\n",
       "    .dataframe tbody tr th {\n",
       "        vertical-align: top;\n",
       "    }\n",
       "\n",
       "    .dataframe thead th {\n",
       "        text-align: right;\n",
       "    }\n",
       "</style>\n",
       "<table border=\"1\" class=\"dataframe\">\n",
       "  <thead>\n",
       "    <tr style=\"text-align: right;\">\n",
       "      <th></th>\n",
       "      <th>code</th>\n",
       "      <th>pixels</th>\n",
       "      <th>fnf_gfc_2000</th>\n",
       "      <th>chg_gfc</th>\n",
       "      <th>agree</th>\n",
       "      <th>pixels.1</th>\n",
       "      <th>area</th>\n",
       "      <th>percent</th>\n",
       "    </tr>\n",
       "  </thead>\n",
       "  <tbody>\n",
       "    <tr>\n",
       "      <th>0</th>\n",
       "      <td>1.0</td>\n",
       "      <td>24409314</td>\n",
       "      <td>1.890557e+06</td>\n",
       "      <td>forest</td>\n",
       "      <td>forest</td>\n",
       "      <td>Stable</td>\n",
       "      <td>Yes</td>\n",
       "      <td>54.68</td>\n",
       "    </tr>\n",
       "    <tr>\n",
       "      <th>1</th>\n",
       "      <td>2.0</td>\n",
       "      <td>398922</td>\n",
       "      <td>3.089742e+04</td>\n",
       "      <td>forest</td>\n",
       "      <td>forest</td>\n",
       "      <td>Loss</td>\n",
       "      <td>No</td>\n",
       "      <td>0.89</td>\n",
       "    </tr>\n",
       "    <tr>\n",
       "      <th>2</th>\n",
       "      <td>3.0</td>\n",
       "      <td>283971</td>\n",
       "      <td>2.199420e+04</td>\n",
       "      <td>forest</td>\n",
       "      <td>non_forest</td>\n",
       "      <td>Loss</td>\n",
       "      <td>Yes</td>\n",
       "      <td>0.64</td>\n",
       "    </tr>\n",
       "    <tr>\n",
       "      <th>3</th>\n",
       "      <td>4.0</td>\n",
       "      <td>3625031</td>\n",
       "      <td>2.807669e+05</td>\n",
       "      <td>forest</td>\n",
       "      <td>non_forest</td>\n",
       "      <td>Stable</td>\n",
       "      <td>No</td>\n",
       "      <td>8.12</td>\n",
       "    </tr>\n",
       "    <tr>\n",
       "      <th>4</th>\n",
       "      <td>5.0</td>\n",
       "      <td>25793</td>\n",
       "      <td>1.997727e+03</td>\n",
       "      <td>non_forest</td>\n",
       "      <td>forest</td>\n",
       "      <td>Gain</td>\n",
       "      <td>Yes</td>\n",
       "      <td>0.06</td>\n",
       "    </tr>\n",
       "    <tr>\n",
       "      <th>5</th>\n",
       "      <td>6.0</td>\n",
       "      <td>2787022</td>\n",
       "      <td>2.158612e+05</td>\n",
       "      <td>non_forest</td>\n",
       "      <td>forest</td>\n",
       "      <td>Stable</td>\n",
       "      <td>No</td>\n",
       "      <td>6.24</td>\n",
       "    </tr>\n",
       "    <tr>\n",
       "      <th>6</th>\n",
       "      <td>7.0</td>\n",
       "      <td>488</td>\n",
       "      <td>3.779671e+01</td>\n",
       "      <td>non_forest</td>\n",
       "      <td>non_forest</td>\n",
       "      <td>Gain</td>\n",
       "      <td>No</td>\n",
       "      <td>0.00</td>\n",
       "    </tr>\n",
       "    <tr>\n",
       "      <th>7</th>\n",
       "      <td>8.0</td>\n",
       "      <td>13108437</td>\n",
       "      <td>1.015278e+06</td>\n",
       "      <td>non_forest</td>\n",
       "      <td>non_forest</td>\n",
       "      <td>Stable</td>\n",
       "      <td>Yes</td>\n",
       "      <td>29.37</td>\n",
       "    </tr>\n",
       "  </tbody>\n",
       "</table>\n",
       "</div>"
      ],
      "text/plain": [
       "   code    pixels  fnf_gfc_2000     chg_gfc       agree pixels.1 area  percent\n",
       "0   1.0  24409314  1.890557e+06      forest      forest   Stable  Yes    54.68\n",
       "1   2.0    398922  3.089742e+04      forest      forest     Loss   No     0.89\n",
       "2   3.0    283971  2.199420e+04      forest  non_forest     Loss  Yes     0.64\n",
       "3   4.0   3625031  2.807669e+05      forest  non_forest   Stable   No     8.12\n",
       "4   5.0     25793  1.997727e+03  non_forest      forest     Gain  Yes     0.06\n",
       "5   6.0   2787022  2.158612e+05  non_forest      forest   Stable   No     6.24\n",
       "6   7.0       488  3.779671e+01  non_forest  non_forest     Gain   No     0.00\n",
       "7   8.0  13108437  1.015278e+06  non_forest  non_forest   Stable  Yes    29.37"
      ]
     },
     "execution_count": 11,
     "metadata": {},
     "output_type": "execute_result"
    }
   ],
   "source": [
    "from scripts import compute_area_glad_2010\n",
    "import pandas as pd\n",
    "\n",
    "#create false aoi\n",
    "asset = 'users/bornToBeAlive/aoi_PU'\n",
    "threshold = 20\n",
    "\n",
    "file = compute_area_glad_2010.compute_area_glad_2010(asset, threshold)\n",
    "df = pd.read_csv(file)\n",
    "df"
   ]
  }
 ],
 "metadata": {
  "kernelspec": {
   "display_name": "Python 3",
   "language": "python",
   "name": "python3"
  },
  "language_info": {
   "codemirror_mode": {
    "name": "ipython",
    "version": 3
   },
   "file_extension": ".py",
   "mimetype": "text/x-python",
   "name": "python",
   "nbconvert_exporter": "python",
   "pygments_lexer": "ipython3",
   "version": "3.6.9"
  }
 },
 "nbformat": 4,
 "nbformat_minor": 4
}
