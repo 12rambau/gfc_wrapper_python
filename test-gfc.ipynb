{
 "cells": [
  {
   "cell_type": "code",
   "execution_count": 1,
   "metadata": {},
   "outputs": [
    {
     "data": {
      "application/vnd.jupyter.widget-view+json": {
       "model_id": "e99f714398964d009ec1057ff9d54d84",
       "version_major": 2,
       "version_minor": 0
      },
      "text/plain": [
       "Map(center=[40, -100], controls=(WidgetControl(options=['position'], widget=HBox(children=(ToggleButton(value=…"
      ]
     },
     "metadata": {},
     "output_type": "display_data"
    }
   ],
   "source": [
    "#create a rootDir and initialize ee and set up a map\n",
    "import ee \n",
    "import os\n",
    "import geemap\n",
    "\n",
    "ee.Initialize()\n",
    "\n",
    "rootDir = os.path.expanduser('~') + '/'\n",
    "resultDir = rootDir + 'gfc_results/'\n",
    "\n",
    "Map = geemap.Map()\n",
    "Map"
   ]
  },
  {
   "cell_type": "code",
   "execution_count": 2,
   "metadata": {
    "scrolled": true
   },
   "outputs": [],
   "source": [
    "#load false aoi\n",
    "from utils import utils\n",
    "asset = 'users/bornToBeAlive/aoi_PU'\n",
    "aoi_name = utils.get_aoi_name(asset)\n",
    "\n",
    "#display on the map\n",
    "aoi = ee.FeatureCollection(asset)\n",
    "Map.addLayer(aoi, {}, 'aoi_name')   \n",
    "Map.centerObject(aoi, 8)"
   ]
  },
  {
   "cell_type": "code",
   "execution_count": 3,
   "metadata": {},
   "outputs": [
    {
     "data": {
      "text/plain": [
       "'/home/prambaud/gfc_wrapper_results/downloads/PU.shp'"
      ]
     },
     "execution_count": 3,
     "metadata": {},
     "output_type": "execute_result"
    }
   ],
   "source": [
    "#create the shp file \n",
    "from scripts import make_aoi_shp\n",
    "\n",
    "make_aoi_shp.make_aoi_shp(asset)"
   ]
  },
  {
   "cell_type": "code",
   "execution_count": null,
   "metadata": {},
   "outputs": [],
   "source": []
  }
 ],
 "metadata": {
  "kernelspec": {
   "display_name": "Python 3",
   "language": "python",
   "name": "python3"
  },
  "language_info": {
   "codemirror_mode": {
    "name": "ipython",
    "version": 3
   },
   "file_extension": ".py",
   "mimetype": "text/x-python",
   "name": "python",
   "nbconvert_exporter": "python",
   "pygments_lexer": "ipython3",
   "version": "3.6.9"
  }
 },
 "nbformat": 4,
 "nbformat_minor": 4
}
