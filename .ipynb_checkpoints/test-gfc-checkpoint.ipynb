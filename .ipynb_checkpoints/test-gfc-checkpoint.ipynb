{
 "cells": [
  {
   "cell_type": "code",
   "execution_count": 1,
   "metadata": {
    "scrolled": false
   },
   "outputs": [
    {
     "name": "stdout",
     "output_type": "stream",
     "text": [
      "/home/prambaud/downloads/gfc/\n",
      "/home/prambaud/downloads/gfc/PU_treecover2000_tile_0.tif\n",
      "0\n",
      "0\n"
     ]
    }
   ],
   "source": [
    "from scripts import download_merge_glad as dmg\n",
    "from scripts import download_merge_tandem as dmt\n",
    "from utils import parameters as param\n",
    "from utils import utils\n",
    "import os\n",
    "\n",
    "#create false aoi\n",
    "asset = 'users/bornToBeAlive/aoi_PU'\n",
    "aoi_name = utils.get_aoi_name(asset)\n",
    "\n",
    "\n",
    "dwnl_dir = param.getDwnDir()\n",
    "\n",
    "#load the Hansen_GFC-2019-v1.7\n",
    "types = param.getTypes()\n",
    "prefix = \"https://storage.googleapis.com/earthenginepartners-hansen/GFC-2019-v1.7/Hansen_GFC-2019-v1.7_\"\n",
    "for type in types:\n",
    "    pattern = prefix + type + \"_{0}_{1}.tif\"\n",
    "    name = aoi_name+'_' + type\n",
    "    dmg.download_merge(asset, pattern, dwnl_dir, name)\n",
    "    \n",
    "#load the tcc2010\n",
    "prefix = \"https://glad.umd.edu/Potapov/TCC_2010/treecover2010_\"\n",
    "pattern = prefix + '{0}_{1}.tif'\n",
    "name = aoi_name+'_'+'treecover2010'\n",
    "dmg.download_merge(asset, pattern, dwnl_dir, name)\n",
    "\n",
    "#load the tandem tiles\n",
    "pattern = \"https://download.geoservice.dlr.de/FNF50/files/\"\n",
    "name = aoi_name+'_'+'tandem'\n",
    "dmt.download_merge(asset, pattern, dwnl_dir, name)\n",
    "\n"
   ]
  },
  {
   "cell_type": "code",
   "execution_count": null,
   "metadata": {},
   "outputs": [],
   "source": []
  }
 ],
 "metadata": {
  "kernelspec": {
   "display_name": "Python 3",
   "language": "python",
   "name": "python3"
  },
  "language_info": {
   "codemirror_mode": {
    "name": "ipython",
    "version": 3
   },
   "file_extension": ".py",
   "mimetype": "text/x-python",
   "name": "python",
   "nbconvert_exporter": "python",
   "pygments_lexer": "ipython3",
   "version": "3.6.9"
  }
 },
 "nbformat": 4,
 "nbformat_minor": 4
}
