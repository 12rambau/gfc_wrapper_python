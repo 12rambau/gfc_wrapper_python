{
 "cells": [
  {
   "cell_type": "code",
   "execution_count": 1,
   "metadata": {},
   "outputs": [],
   "source": [
    "import os \n",
    "\n",
    "map_raster = '/home/prambaud/gfc_wrapper_results/gfc/PU_20_merged_gfc_map.tif'\n",
    "    \n",
    "if not os.path.isfile(map_raster): \n",
    "    print('No gfc map')"
   ]
  },
  {
   "cell_type": "code",
   "execution_count": 7,
   "metadata": {},
   "outputs": [
    {
     "name": "stdout",
     "output_type": "stream",
     "text": [
      "(6553, 11462)\n",
      "(75110486,)\n",
      "[ 0  1  2  3  4  5  6  7  8  9 10 11 12 13 14 15 16 17 18 19 30 40 50 51]\n",
      "[36623086    30061    68692    12088    48461    48178    26703    81788\n",
      "    41264   105748    63303    57529    54681   347155   181793   193502\n",
      "   247564   252609   217514   249516 19408586 16677087    49795    23783]\n"
     ]
    }
   ],
   "source": [
    "import rasterio as rio\n",
    "import numpy as np\n",
    "\n",
    "with rio.open(map_raster) as src:\n",
    "    info = src.read(1, masked=True)\n",
    "\n",
    "print(info.shape)\n",
    "print(info.ravel().shape)\n",
    "\n",
    "array = np.array(info.ravel())\n",
    "codes, frequency = np.unique(array, return_counts=True)\n",
    "print(codes)\n",
    "print(frequency)"
   ]
  },
  {
   "cell_type": "code",
   "execution_count": 14,
   "metadata": {},
   "outputs": [
    {
     "data": {
      "text/html": [
       "<div>\n",
       "<style scoped>\n",
       "    .dataframe tbody tr th:only-of-type {\n",
       "        vertical-align: middle;\n",
       "    }\n",
       "\n",
       "    .dataframe tbody tr th {\n",
       "        vertical-align: top;\n",
       "    }\n",
       "\n",
       "    .dataframe thead th {\n",
       "        text-align: right;\n",
       "    }\n",
       "</style>\n",
       "<table border=\"1\" class=\"dataframe\">\n",
       "  <thead>\n",
       "    <tr style=\"text-align: right;\">\n",
       "      <th></th>\n",
       "      <th>codes</th>\n",
       "      <th>pixels</th>\n",
       "    </tr>\n",
       "  </thead>\n",
       "  <tbody>\n",
       "    <tr>\n",
       "      <th>1</th>\n",
       "      <td>1</td>\n",
       "      <td>30061</td>\n",
       "    </tr>\n",
       "    <tr>\n",
       "      <th>2</th>\n",
       "      <td>2</td>\n",
       "      <td>68692</td>\n",
       "    </tr>\n",
       "    <tr>\n",
       "      <th>3</th>\n",
       "      <td>3</td>\n",
       "      <td>12088</td>\n",
       "    </tr>\n",
       "    <tr>\n",
       "      <th>4</th>\n",
       "      <td>4</td>\n",
       "      <td>48461</td>\n",
       "    </tr>\n",
       "    <tr>\n",
       "      <th>5</th>\n",
       "      <td>5</td>\n",
       "      <td>48178</td>\n",
       "    </tr>\n",
       "    <tr>\n",
       "      <th>6</th>\n",
       "      <td>6</td>\n",
       "      <td>26703</td>\n",
       "    </tr>\n",
       "    <tr>\n",
       "      <th>7</th>\n",
       "      <td>7</td>\n",
       "      <td>81788</td>\n",
       "    </tr>\n",
       "    <tr>\n",
       "      <th>8</th>\n",
       "      <td>8</td>\n",
       "      <td>41264</td>\n",
       "    </tr>\n",
       "    <tr>\n",
       "      <th>9</th>\n",
       "      <td>9</td>\n",
       "      <td>105748</td>\n",
       "    </tr>\n",
       "    <tr>\n",
       "      <th>10</th>\n",
       "      <td>10</td>\n",
       "      <td>63303</td>\n",
       "    </tr>\n",
       "    <tr>\n",
       "      <th>11</th>\n",
       "      <td>11</td>\n",
       "      <td>57529</td>\n",
       "    </tr>\n",
       "    <tr>\n",
       "      <th>12</th>\n",
       "      <td>12</td>\n",
       "      <td>54681</td>\n",
       "    </tr>\n",
       "    <tr>\n",
       "      <th>13</th>\n",
       "      <td>13</td>\n",
       "      <td>347155</td>\n",
       "    </tr>\n",
       "    <tr>\n",
       "      <th>14</th>\n",
       "      <td>14</td>\n",
       "      <td>181793</td>\n",
       "    </tr>\n",
       "    <tr>\n",
       "      <th>15</th>\n",
       "      <td>15</td>\n",
       "      <td>193502</td>\n",
       "    </tr>\n",
       "    <tr>\n",
       "      <th>16</th>\n",
       "      <td>16</td>\n",
       "      <td>247564</td>\n",
       "    </tr>\n",
       "    <tr>\n",
       "      <th>17</th>\n",
       "      <td>17</td>\n",
       "      <td>252609</td>\n",
       "    </tr>\n",
       "    <tr>\n",
       "      <th>18</th>\n",
       "      <td>18</td>\n",
       "      <td>217514</td>\n",
       "    </tr>\n",
       "    <tr>\n",
       "      <th>19</th>\n",
       "      <td>19</td>\n",
       "      <td>249516</td>\n",
       "    </tr>\n",
       "  </tbody>\n",
       "</table>\n",
       "</div>"
      ],
      "text/plain": [
       "    codes  pixels\n",
       "1       1   30061\n",
       "2       2   68692\n",
       "3       3   12088\n",
       "4       4   48461\n",
       "5       5   48178\n",
       "6       6   26703\n",
       "7       7   81788\n",
       "8       8   41264\n",
       "9       9  105748\n",
       "10     10   63303\n",
       "11     11   57529\n",
       "12     12   54681\n",
       "13     13  347155\n",
       "14     14  181793\n",
       "15     15  193502\n",
       "16     16  247564\n",
       "17     17  252609\n",
       "18     18  217514\n",
       "19     19  249516"
      ]
     },
     "execution_count": 14,
     "metadata": {},
     "output_type": "execute_result"
    }
   ],
   "source": [
    "import pandas as pd \n",
    "\n",
    "columns = ['codes', 'pixels']\n",
    "hist = pd.DataFrame([[codes[i], frequency[i]] for i in range(len(codes))], columns=columns)\n",
    "hist = hist[(hist['codes'] > 0) & (hist['codes']< 30)]\n",
    "hist"
   ]
  },
  {
   "cell_type": "code",
   "execution_count": 15,
   "metadata": {},
   "outputs": [
    {
     "data": {
      "image/png": "[encoded data removed]",
      "text/plain": [
       "<Figure size 432x288 with 1 Axes>"
      ]
     },
     "metadata": {
      "needs_background": "light"
     },
     "output_type": "display_data"
    }
   ],
   "source": [
    "import matplotlib.pyplot as plt\n",
    "\n",
    "hist.plot(x ='codes', y='pixels', kind = 'bar')\n",
    "plt.show()"
   ]
  },
  {
   "cell_type": "code",
   "execution_count": null,
   "metadata": {},
   "outputs": [],
   "source": [
    "from utils import utils\n",
    "\n",
    "#realize a primary hist\n",
    "hist = utils.pixelCount(map_raster)\n",
    "\n",
    "hist"
   ]
  },
  {
   "cell_type": "code",
   "execution_count": null,
   "metadata": {},
   "outputs": [],
   "source": [
    "from utils import utils\n",
    "    \n",
    "    #realize a primary hist\n",
    "    hist = utils.pixelCount(map_raster)\n",
    "    \n",
    "    src = gdal.Open(map_raster)\n",
    "    proj = osr.SpatialReference(wkt=src.GetProjection())\n",
    "    bb = utils.get_bounding_box(assetId)\n",
    "    _, resx, _, _, _, resy  = src.GetGeoTransform()\n",
    "    src = None\n",
    "    \n",
    "    #the prjection is not equal-area. Approximation of the pixel surface is done with the followings : 1° = 111 km\n",
    "    \n",
    "    resx_proj = resx * 111321\n",
    "    resy_proj = resy * 111321\n",
    "    \n",
    "    #convert to hectars\n",
    "    hist['area'] = utils.toHectar(hist['pixels'], resx_proj, resy_proj)\n",
    "    \n",
    "    #drop 0 ha lines and croped values (255)\n",
    "    #hist = hist[(hist['area'] != 0) & (hist['code'] != 255)]\n",
    "    \n",
    "    #add line indexes \n",
    "    hist['class'] = pm.getMyLabel()\n",
    "    \n",
    "    return hist"
   ]
  }
 ],
 "metadata": {
  "kernelspec": {
   "display_name": "Python 3",
   "language": "python",
   "name": "python3"
  },
  "language_info": {
   "codemirror_mode": {
    "name": "ipython",
    "version": 3
   },
   "file_extension": ".py",
   "mimetype": "text/x-python",
   "name": "python",
   "nbconvert_exporter": "python",
   "pygments_lexer": "ipython3",
   "version": "3.6.9"
  }
 },
 "nbformat": 4,
 "nbformat_minor": 4
}
