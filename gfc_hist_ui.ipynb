{
 "cells": [
  {
   "cell_type": "code",
   "execution_count": 1,
   "metadata": {},
   "outputs": [],
   "source": [
    "from functools import partial\n",
    "\n",
    "from sepal_ui import widgetFactory as wf\n",
    "from sepal_ui import widgetBinding as wb\n",
    "from sepal_ui.scripts import utils\n",
    "\n",
    "from scripts import run\n",
    "from utils import messages as ms"
   ]
  },
  {
   "cell_type": "code",
   "execution_count": 2,
   "metadata": {},
   "outputs": [],
   "source": [
    "#create a map time\n",
    "id_ = \"gfc_hist_widget\"\n",
    "title = \"data\"\n",
    "\n",
    "gfc_hist = wf.Tile(id_, title, inputs=[''])"
   ]
  },
  {
   "cell_type": "code",
   "execution_count": 3,
   "metadata": {},
   "outputs": [],
   "source": [
    "import ipyvuetify as v\n",
    "\n",
    "#create the output alert \n",
    "gfc_area_output = wf.OutputWidget(ms.GFC_HIST)\n",
    "\n",
    "#create the button that start your process\n",
    "gfc_area_btn = wf.ProcessBtn('Compute areas')\n",
    "\n",
    "#create a process tile\n",
    "id_ = \"gfc_hist_widget\"\n",
    "title = 'Area stats'\n",
    "\n",
    "gfc_area = wf.Tile(\n",
    "    id_, \n",
    "    title, \n",
    "    btn=gfc_area_btn, \n",
    "    output=gfc_area_output,\n",
    "    inputs=['']\n",
    ")\n",
    "\n",
    "#bind the button to the process by writing a custom function\n",
    "def process_start(widget, event, data, output, gfc_hist):\n",
    "    \n",
    "    #debug\n",
    "    #asset = 'users/bornToBeAlive/aoi_PU'\n",
    "    #threshold = 20\n",
    "    \n",
    "    asset = gfc_aoi_IO.assetId\n",
    "    threshold = gfc_viz_io.threshold\n",
    "    \n",
    "    #toggle the loading button\n",
    "    utils.toggleLoading(widget)\n",
    "    \n",
    "    #check inputs\n",
    "    if not wb.checkInput(asset, output, ms.NO_AOI): return utils.toggleLoading(widget)\n",
    "    if not wb.checkInput(threshold, output, ms.NO_THRESHOLD): return utils.toggleLoading(widget)\n",
    "    \n",
    "    #display the results \n",
    "    children = run.displayGfcHist(asset, threshold, output)\n",
    "    \n",
    "    #display them in results\n",
    "    gfc_hist.children[0].children = [\n",
    "        gfc_hist.children[0].children[0],\n",
    "        children\n",
    "    ]\n",
    "    \n",
    "    #toggle the loading button\n",
    "    return utils.toggleLoading(widget)\n",
    "\n",
    "gfc_area_btn.on_event('click', partial(\n",
    "    process_start, \n",
    "    output = gfc_area_output,\n",
    "    gfc_hist = gfc_hist\n",
    "))"
   ]
  },
  {
   "cell_type": "code",
   "execution_count": 4,
   "metadata": {},
   "outputs": [
    {
     "data": {
      "application/vnd.jupyter.widget-view+json": {
       "model_id": "6291bace08624ebeba11f120fddde074",
       "version_major": 2,
       "version_minor": 0
      },
      "text/plain": [
       "Layout(align_center=True, children=[Card(children=[Html(children=['Area stats'], tag='h2'), Flex(children=[Lay…"
      ]
     },
     "metadata": {},
     "output_type": "display_data"
    }
   ],
   "source": [
    "#this tiles will only be displayed if you launch voila from this file \n",
    "gfc_area"
   ]
  },
  {
   "cell_type": "code",
   "execution_count": 5,
   "metadata": {},
   "outputs": [
    {
     "data": {
      "application/vnd.jupyter.widget-view+json": {
       "model_id": "9b3144074d4d411784a21f3056cc55a9",
       "version_major": 2,
       "version_minor": 0
      },
      "text/plain": [
       "Layout(align_center=True, children=[Card(children=[Html(children=['data'], tag='h2'), Flex(children=[Layout(al…"
      ]
     },
     "metadata": {},
     "output_type": "display_data"
    }
   ],
   "source": [
    "#this tiles will only be displayed if you launch voila from this file \n",
    "gfc_hist"
   ]
  }
 ],
 "metadata": {
  "kernelspec": {
   "display_name": "Python 3",
   "language": "python",
   "name": "python3"
  },
  "language_info": {
   "codemirror_mode": {
    "name": "ipython",
    "version": 3
   },
   "file_extension": ".py",
   "mimetype": "text/x-python",
   "name": "python",
   "nbconvert_exporter": "python",
   "pygments_lexer": "ipython3",
   "version": "3.6.9"
  }
 },
 "nbformat": 4,
 "nbformat_minor": 4
}
