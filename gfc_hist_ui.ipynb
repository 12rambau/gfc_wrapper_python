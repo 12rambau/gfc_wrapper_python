{
 "cells": [
  {
   "cell_type": "code",
   "execution_count": 1,
   "metadata": {},
   "outputs": [],
   "source": [
    "from functools import partial\n",
    "\n",
    "from sepal_ui import widgetFactory as wf\n",
    "from sepal_ui import widgetBinding as wb\n",
    "from sepal_ui.scripts import utils\n",
    "\n",
    "from scripts import run\n",
    "from utils import messages as ms"
   ]
  },
  {
   "cell_type": "code",
   "execution_count": 2,
   "metadata": {},
   "outputs": [],
   "source": [
    "#create a map time\n",
    "id_ = \"gfc_process_widget\"\n",
    "title = \"data\"\n",
    "\n",
    "gfc_hist = wf.Tile(id_, title)"
   ]
  },
  {
   "cell_type": "code",
   "execution_count": 3,
   "metadata": {},
   "outputs": [],
   "source": [
    "import ipyvuetify as v\n",
    "\n",
    "#create the output alert \n",
    "gfc_area_output = wf.OutputWidget(ms.GFC_MESSAGE)\n",
    "\n",
    "#create the button that start your process\n",
    "gfc_area_btn = wf.ProcessBtn('compute areas')\n",
    "\n",
    "#create a process tile\n",
    "id_ = \"gfc_process_widget\"\n",
    "title = 'Area stats'\n",
    "\n",
    "gfc_area = wf.Tile(\n",
    "    id_, \n",
    "    title, \n",
    "    btn=gfc_area_btn, \n",
    "    output=gfc_area_output\n",
    ")\n",
    "\n",
    "#bind the button to the process by writing a custom function\n",
    "def process_start(widget, event, data, output, gfc_hist):\n",
    "    \n",
    "    #debug\n",
    "    asset = 'users/bornToBeAlive/aoi_PU'\n",
    "    threshold = 20\n",
    "    \n",
    "    #asset = gfc_aoi_IO.assetId\n",
    "    #threshold = gfc_viz_io.threshold\n",
    "    \n",
    "    #toggle the loading button\n",
    "    utils.toggleLoading(widget)\n",
    "    \n",
    "    #check inputs\n",
    "    if not wb.checkInput(asset, output, ms.NO_AOI): return utils.toggleLoading(widget)\n",
    "    if not wb.checkInput(threshold, output, ms.NO_THRESHOLD): return utils.toggleLoading(widget)\n",
    "    \n",
    "    #display the results \n",
    "    children = run.displayGfcHist(asset, threshold, output)\n",
    "    \n",
    "    #display them in results\n",
    "    gfc_hist.children[0].children = [\n",
    "        gfc_hist.children[0].children[0],\n",
    "        children\n",
    "    ]\n",
    "    \n",
    "    #toggle the loading button\n",
    "    return utils.toggleLoading(widget)\n",
    "\n",
    "gfc_area_btn.on_event('click', partial(\n",
    "    process_start, \n",
    "    output = gfc_area_output,\n",
    "    gfc_hist = gfc_hist\n",
    "))"
   ]
  },
  {
   "cell_type": "code",
   "execution_count": 4,
   "metadata": {},
   "outputs": [],
   "source": [
    "#wrap the tiles together in a layout row\n",
    "gfc_area.md6 = True\n",
    "gfc_hist.md6 = True\n",
    "\n",
    "gfc_area_process = v.Layout(\n",
    "    row = True,\n",
    "    xs12 = True,\n",
    "    children = [gfc_area, gfc_hist]\n",
    ")\n"
   ]
  },
  {
   "cell_type": "code",
   "execution_count": 5,
   "metadata": {},
   "outputs": [
    {
     "data": {
      "application/vnd.jupyter.widget-view+json": {
       "model_id": "684bbfa17e65497bacfef8c8e2c2588f",
       "version_major": 2,
       "version_minor": 0
      },
      "text/plain": [
       "Layout(children=[Layout(align_center=True, children=[Card(children=[Html(children=['Area stats'], tag='h2'), F…"
      ]
     },
     "metadata": {},
     "output_type": "display_data"
    }
   ],
   "source": [
    "#this tiles will only be displayed if you launch voila from this file \n",
    "gfc_area_process"
   ]
  },
  {
   "cell_type": "code",
   "execution_count": null,
   "metadata": {},
   "outputs": [],
   "source": []
  }
 ],
 "metadata": {
  "kernelspec": {
   "display_name": "Python 3",
   "language": "python",
   "name": "python3"
  },
  "language_info": {
   "codemirror_mode": {
    "name": "ipython",
    "version": 3
   },
   "file_extension": ".py",
   "mimetype": "text/x-python",
   "name": "python",
   "nbconvert_exporter": "python",
   "pygments_lexer": "ipython3",
   "version": "3.6.9"
  }
 },
 "nbformat": 4,
 "nbformat_minor": 4
}
