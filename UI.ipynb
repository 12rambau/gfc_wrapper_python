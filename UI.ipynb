{
 "cells": [
  {
   "cell_type": "code",
   "execution_count": null,
   "metadata": {},
   "outputs": [],
   "source": [
    "from sepal_ui import widgetFactory as wf\n",
    "from sepal_ui import widgetBinding as wb"
   ]
  },
  {
   "cell_type": "code",
   "execution_count": null,
   "metadata": {},
   "outputs": [],
   "source": [
    "#create an appBar \n",
    "gfc_appBar, gfc_toggleButton = wf.AppBar('Global Forest Mask')"
   ]
  },
  {
   "cell_type": "code",
   "execution_count": null,
   "metadata": {},
   "outputs": [],
   "source": [
    "#create a footer \n",
    "gfc_footer = wf.Footer('SEPAL \\u00A9 2020')"
   ]
  },
  {
   "cell_type": "code",
   "execution_count": null,
   "metadata": {},
   "outputs": [],
   "source": [
    "#add your tiles\n",
    "%run 'AOI_selector.ipynb'\n",
    "%run 'GFC_process_UI.ipynb'\n",
    "%run 'MSPA_process_UI.ipynb'\n",
    "%run 'About_UI.ipynb'\n",
    "\n",
    "gfc_content = [\n",
    "    gfc_aoi, \n",
    "    gfc_process,\n",
    "    gfc_results,\n",
    "    mspa_process,\n",
    "    mspa_results,\n",
    "    gfc_about,\n",
    "    gfc_disclaimer\n",
    "]"
   ]
  },
  {
   "cell_type": "code",
   "execution_count": null,
   "metadata": {},
   "outputs": [],
   "source": [
    "#select the tile to display first \n",
    "select = 'about_widget' #id of the tile you want to display\n",
    "wf.hideCards(select, gfc_content)"
   ]
  },
  {
   "cell_type": "code",
   "execution_count": null,
   "metadata": {},
   "outputs": [],
   "source": [
    "#create a drawer \n",
    "item_aoi = wf.DrawerItem('AOI selection', 'mdi-map-marker-check', card=\"aoi_widget\")\n",
    "item_gfc_tile = wf.DrawerItem('GFC process', 'mdi-cogs', card=\"gfc_process_widget\")\n",
    "item_gfc_result = wf.DrawerItem('GFC Results', 'mdi-chart-bar', card=\"gfc_result_widget\")\n",
    "item_mspa_tile = wf.DrawerItem('Map fragmentation process', 'mdi-cogs', card=\"mspa_process_widget\")\n",
    "item_mspa_result = wf.DrawerItem('MSPA Results', 'mdi-chart-bar', card=\"mspa_result_widget\")\n",
    "item_about = wf.DrawerItem('About', 'mdi-help-circle', card=\"about_widget\")\n",
    "\n",
    "code_link = 'https://github.com/12rambau/gfc_wrapper_python'\n",
    "wiki_link = '#'\n",
    "issue = '#'\n",
    "\n",
    "items = [\n",
    "    item_aoi, \n",
    "    item_gfc_tile, \n",
    "    item_gfc_result, \n",
    "    item_mspa_tile, \n",
    "    item_mspa_result, \n",
    "    item_about\n",
    "]\n",
    "gfc_drawer = wf.NavDrawer(items, code = code_link, wiki = wiki_link, issue = issue)"
   ]
  },
  {
   "cell_type": "code",
   "execution_count": null,
   "metadata": {},
   "outputs": [],
   "source": [
    "#build the app \n",
    "gfc_app = wf.App(\n",
    "    tiles=gfc_content, \n",
    "    appBar=gfc_appBar, \n",
    "    footer=gfc_footer, \n",
    "    navDrawer=gfc_drawer\n",
    ")[0]"
   ]
  },
  {
   "cell_type": "code",
   "execution_count": null,
   "metadata": {},
   "outputs": [],
   "source": [
    "#bind the components together\n",
    "wb.displayDrawer(gfc_drawer, gfc_toggleButton) #drawer \n",
    "for item in items:                             #drawer clickable buttons\n",
    "    wb.display_tile(item, gfc_content)"
   ]
  },
  {
   "cell_type": "code",
   "execution_count": null,
   "metadata": {},
   "outputs": [],
   "source": [
    "#display the app\n",
    "gfc_app"
   ]
  }
 ],
 "metadata": {
  "kernelspec": {
   "display_name": "Python 3",
   "language": "python",
   "name": "python3"
  },
  "language_info": {
   "codemirror_mode": {
    "name": "ipython",
    "version": 3
   },
   "file_extension": ".py",
   "mimetype": "text/x-python",
   "name": "python",
   "nbconvert_exporter": "python",
   "pygments_lexer": "ipython3",
   "version": "3.6.9"
  }
 },
 "nbformat": 4,
 "nbformat_minor": 4
}
