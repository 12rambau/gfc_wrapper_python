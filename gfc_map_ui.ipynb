{
 "cells": [
  {
   "cell_type": "code",
   "execution_count": 1,
   "metadata": {},
   "outputs": [],
   "source": [
    "from functools import partial\n",
    "\n",
    "from sepal_ui import widgetFactory as wf\n",
    "from sepal_ui import widgetBinding as wb\n",
    "from sepal_ui.scripts import utils\n",
    "\n",
    "from scripts import run\n",
    "from utils import mapping\n",
    "from utils import messages as ms"
   ]
  },
  {
   "cell_type": "code",
   "execution_count": 2,
   "metadata": {},
   "outputs": [],
   "source": [
    "#use a class to define your input and output in order to have mutable variables\n",
    "class gfc_process_IO:\n",
    "    def __init__(self):\n",
    "        #set up your inputs\n",
    "        self.threshold = 30\n",
    "        \n",
    "        #set up output\n",
    "        self.visualization = False\n",
    "        self.clip_map = None\n",
    "        self.csv_file = None\n",
    "        \n",
    "gfc_process_io = gfc_process_IO()"
   ]
  },
  {
   "cell_type": "code",
   "execution_count": 3,
   "metadata": {},
   "outputs": [],
   "source": [
    "#create a map time\n",
    "id_ = \"gfc_process_widget\"\n",
    "title = \"Map\"\n",
    "\n",
    "gfc_m = mapping.init_gfc_map()\n",
    "gfc_map = wf.Tile(id_, title, inputs=[gfc_m])"
   ]
  },
  {
   "cell_type": "code",
   "execution_count": 4,
   "metadata": {},
   "outputs": [],
   "source": [
    "import ipyvuetify as v\n",
    "\n",
    "#create the output alert \n",
    "gfc_viz_output = wf.OutputWidget(ms.GFC_MESSAGE)\n",
    "\n",
    "#create the button that start your process\n",
    "gfc_viz_btn = wf.ProcessBtn('Update data')\n",
    "\n",
    "#create the widgets following ipyvuetify requirements \n",
    "gfc_viz_slider = v.Slider(\n",
    "    label= 'Threshold', \n",
    "    class_=\"mt-5\", \n",
    "    thumb_label='always', \n",
    "    v_model=30,\n",
    ")\n",
    "\n",
    "gfc_viz_inputs = [gfc_viz_slider]\n",
    "\n",
    "#bind the widget to the inputs\n",
    "wb.bind(gfc_viz_slider, gfc_process_io, 'threshold', gfc_viz_output)\n",
    "\n",
    "#create a process tile\n",
    "id_ = \"gfc_process_widget\"\n",
    "title = 'GFC visualization'\n",
    "\n",
    "gfc_viz = wf.Tile(\n",
    "    id_, \n",
    "    title, \n",
    "    btn=gfc_viz_btn, \n",
    "    inputs=gfc_viz_inputs, \n",
    "    output=gfc_viz_output\n",
    ")\n",
    "\n",
    "#bind the button to the process by writing a custom function\n",
    "def process_start(widget, event, data, output, m):\n",
    "    \n",
    "    #debug\n",
    "    asset = 'users/bornToBeAlive/aoi_PU'\n",
    "    #threshold = 20\n",
    "    #visualization = True\n",
    "    \n",
    "    #asset = gfc_aoi_IO.assetId\n",
    "    threshold = gfc_process_io.threshold\n",
    "    visualization = gfc_process_io.visualization\n",
    "    \n",
    "    #toggle the loading button\n",
    "    utils.toggleLoading(widget)\n",
    "    \n",
    "    #check inputs\n",
    "    if not wb.checkInput(asset, output, ms.NO_AOI): return utils.toggleLoading(widget)\n",
    "    if not wb.checkInput(threshold, output, ms.NO_THRESHOLD): return utils.toggleLoading(widget)\n",
    "    \n",
    "    #display the results \n",
    "    run.displayGfcMap(asset, threshold, m, visualization, output)\n",
    "    \n",
    "    #validate the visualization process\n",
    "    setattr(gfc_process_io, 'visualization', True)\n",
    "    \n",
    "    #toggle the loading button\n",
    "    return utils.toggleLoading(widget)\n",
    "\n",
    "gfc_viz_btn.on_event('click', partial(\n",
    "    process_start, \n",
    "    output=gfc_viz_output,\n",
    "    m=gfc_m,\n",
    "))"
   ]
  },
  {
   "cell_type": "code",
   "execution_count": 5,
   "metadata": {},
   "outputs": [],
   "source": [
    "#wrap the tiles together in a layout row \n",
    "gfc_map.md6=True\n",
    "gfc_viz.md6=True\n",
    "\n",
    "gfc_viz_process = v.Layout(\n",
    "    Row=True,\n",
    "    xs12=True, \n",
    "    align_center=True,\n",
    "    children = [gfc_viz,gfc_map]\n",
    ")\n",
    "\n"
   ]
  },
  {
   "cell_type": "code",
   "execution_count": 6,
   "metadata": {},
   "outputs": [
    {
     "data": {
      "application/vnd.jupyter.widget-view+json": {
       "model_id": "f7d5d63adc9440b08a65cd28d0af7d70",
       "version_major": 2,
       "version_minor": 0
      },
      "text/plain": [
       "Layout(align_center=True, children=[Layout(align_center=True, children=[Card(children=[Html(children=['Map'], …"
      ]
     },
     "metadata": {},
     "output_type": "display_data"
    }
   ],
   "source": [
    "#this tiles will only be displayed if you launch voila from this file \n",
    "gfc_viz_process"
   ]
  }
 ],
 "metadata": {
  "kernelspec": {
   "display_name": "Python 3",
   "language": "python",
   "name": "python3"
  },
  "language_info": {
   "codemirror_mode": {
    "name": "ipython",
    "version": 3
   },
   "file_extension": ".py",
   "mimetype": "text/x-python",
   "name": "python",
   "nbconvert_exporter": "python",
   "pygments_lexer": "ipython3",
   "version": "3.6.9"
  }
 },
 "nbformat": 4,
 "nbformat_minor": 4
}
