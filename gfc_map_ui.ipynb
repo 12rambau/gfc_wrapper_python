{
 "cells": [
  {
   "cell_type": "code",
   "execution_count": null,
   "metadata": {},
   "outputs": [],
   "source": [
    "from functools import partial\n",
    "\n",
    "from sepal_ui import sepalwidgets as sw\n",
    "from sepal_ui import mapping as sm\n",
    "import ipyvuetify as v\n",
    "\n",
    "from scripts import run\n",
    "from utils import messages as ms\n",
    "from utils import parameters as pm"
   ]
  },
  {
   "cell_type": "code",
   "execution_count": null,
   "metadata": {},
   "outputs": [],
   "source": [
    "#use a class to define your input and output in order to have mutable variables\n",
    "class Gfc_viz_io:\n",
    "    def __init__(self):\n",
    "        #set up your inputs\n",
    "        self.threshold = 30\n",
    "        #set up output\n",
    "        self.visualization = False\n",
    "        \n",
    "gfc_viz_io = Gfc_viz_io()"
   ]
  },
  {
   "cell_type": "code",
   "execution_count": null,
   "metadata": {},
   "outputs": [],
   "source": [
    "#create a map\n",
    "gfc_m = sm.SepalMap()\n",
    "gfc_m.add_legend(legend_keys=pm.getMyLabel(), legend_colors=pm.getColorPalette(), position='topleft')"
   ]
  },
  {
   "cell_type": "code",
   "execution_count": null,
   "metadata": {},
   "outputs": [],
   "source": [
    "#create the output alert \n",
    "gfc_viz_output = sw.Alert()#.add_msg(ms.GFC_MAP)\n",
    "\n",
    "#create the button that start your process\n",
    "gfc_viz_btn = sw.Btn('Update map', icon='mdi-check')\n",
    "\n",
    "#create the widgets following ipyvuetify requirements \n",
    "gfc_viz_slider = v.Slider(label= 'Threshold', class_=\"mt-5\", thumb_label='always', v_model=30)\n",
    "gfc_viz_output.bind(gfc_viz_slider, gfc_viz_io, 'threshold')\n",
    "\n",
    "\n",
    "#create a process tile\n",
    "id_ = \"gfc_map_widget\"\n",
    "title = 'GFC visualization'\n",
    "\n",
    "#create a custom tile to display the vizualization map without scrolling down \n",
    "gfc_viz_inputs = v.Layout(\n",
    "    _metadata={'mount-id': 'data-input'},\n",
    "    class_=\"pa-5\",\n",
    "    row=True,\n",
    "    align_center=True, \n",
    "    children=[\n",
    "        v.Flex(xs12=True, children=[gfc_viz_slider]),\n",
    "        v.Flex(xs12=True, children=[gfc_viz_btn]),\n",
    "        v.Flex(xs12=True, children=[gfc_viz_output]),\n",
    "    ]\n",
    ")\n",
    "\n",
    "gfc_viz_inputs = v.Layout(\n",
    "    row=True,\n",
    "    xs12=True,\n",
    "    children=[\n",
    "        v.Flex(xs12=True, md6=True, children=[gfc_viz_inputs]),\n",
    "        v.Flex(class_=\"pa-5\", xs12=True, md6=True, children=[gfc_m])\n",
    "    ]\n",
    ") \n",
    "\n",
    "gfc_viz = sw.Tile(\n",
    "    id_= id_,\n",
    "    title= title,\n",
    "    inputs = [gfc_viz_inputs]\n",
    ")\n",
    "\n",
    "#bind the button to the process by writing a custom function\n",
    "def process_start(widget, event, data, output, m):\n",
    "    \n",
    "    asset = gfc_aoi_io.assetId\n",
    "    threshold = gfc_viz_io.threshold\n",
    "    visualization = gfc_viz_io.visualization\n",
    "    \n",
    "    #toggle the loading button\n",
    "    widget.toggle_loading()\n",
    "    \n",
    "    #check inputs\n",
    "    if not output.check_input(asset, ms.NO_AOI): return widget.toggle_loading()\n",
    "    if not output.check_input(threshold, ms.NO_THRESHOLD): return widget.toggle_loading()\n",
    "    \n",
    "    try:\n",
    "        #display the results \n",
    "        run.displayGfcMap(asset, threshold, m, visualization, output)\n",
    "    \n",
    "        #validate the visualization process\n",
    "        setattr(gfc_viz_io, 'visualization', True)\n",
    "    \n",
    "    except Exception as e: \n",
    "        output.add_live_msg(str(e), 'error')\n",
    "        \n",
    "    #toggle the loading button\n",
    "    widget.toggle_loading()\n",
    "    \n",
    "    return \n",
    "\n",
    "gfc_viz_btn.on_event('click', partial(\n",
    "    process_start, \n",
    "    output=gfc_viz_output,\n",
    "    m=gfc_m,\n",
    "))"
   ]
  },
  {
   "cell_type": "code",
   "execution_count": null,
   "metadata": {},
   "outputs": [],
   "source": [
    "#this tiles will only be displayed if you launch voila from this file \n",
    "gfc_viz"
   ]
  },
  {
   "cell_type": "code",
   "execution_count": null,
   "metadata": {},
   "outputs": [],
   "source": []
  }
 ],
 "metadata": {
  "kernelspec": {
   "display_name": "Python 3",
   "language": "python",
   "name": "python3"
  },
  "language_info": {
   "codemirror_mode": {
    "name": "ipython",
    "version": 3
   },
   "file_extension": ".py",
   "mimetype": "text/x-python",
   "name": "python",
   "nbconvert_exporter": "python",
   "pygments_lexer": "ipython3",
   "version": "3.6.9"
  }
 },
 "nbformat": 4,
 "nbformat_minor": 4
}
