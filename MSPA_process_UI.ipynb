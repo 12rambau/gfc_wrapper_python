{
 "cells": [
  {
   "cell_type": "code",
   "execution_count": 1,
   "metadata": {},
   "outputs": [],
   "source": [
    "import ipyvuetify as v\n",
    "from utils import utils"
   ]
  },
  {
   "cell_type": "code",
   "execution_count": 2,
   "metadata": {},
   "outputs": [],
   "source": [
    "#output \n",
    "foreground_connectivity = None\n",
    "edge_width = None\n",
    "transition_core = True\n",
    "separate_feature = True\n",
    "statistics = True"
   ]
  },
  {
   "cell_type": "code",
   "execution_count": 3,
   "metadata": {},
   "outputs": [],
   "source": [
    "MSPA_MESSAGE = 'click on \"Run process\" to launch the process on your GEE account'"
   ]
  },
  {
   "cell_type": "code",
   "execution_count": 4,
   "metadata": {},
   "outputs": [],
   "source": [
    "mspa_process_output = v.Alert(children=[MSPA_MESSAGE], type='info', text=True, class_=\"mt-5\")"
   ]
  },
  {
   "cell_type": "code",
   "execution_count": 5,
   "metadata": {},
   "outputs": [],
   "source": [
    "#select connectivity\n",
    "connectivity = [4, 8] #using text input to transform it into 'confXX'\n",
    "mspa_connectivity = v.Select(items=connectivity, label='Select the foreground connectivity', v_model=None)\n",
    "\n",
    "def on_connectivity_change(widget, event, data):\n",
    "    global foreground_connectivity\n",
    "    foreground_connectivity = widget.v_model\n",
    "\n",
    "mspa_connectivity.on_event('change', on_connectivity_change )"
   ]
  },
  {
   "cell_type": "code",
   "execution_count": 6,
   "metadata": {},
   "outputs": [],
   "source": [
    "#select the edges\n",
    "mspa_edge_slider = v.Slider(label= 'Threshold', class_=\"mt-5\", thumb_label='always', v_model=0)\n",
    "\n",
    "def on_edge_change(widget, event, data):\n",
    "    global edge_width\n",
    "\n",
    "    edge_width = widget.v_model\n",
    "\n",
    "mspa_edge_slider.on_event('change', on_edge_change )"
   ]
  },
  {
   "cell_type": "code",
   "execution_count": 7,
   "metadata": {},
   "outputs": [],
   "source": [
    "mspa_transition = v.Switch(label=\"Transition Core - Loop/Bridge\", v_model=True)\n",
    "\n",
    "def on_transition_change(widget, event, data):\n",
    "    global transition_core\n",
    "\n",
    "    transition_core = not transition_core\n",
    "\n",
    "mspa_transition.on_event('change', on_transition_change )"
   ]
  },
  {
   "cell_type": "code",
   "execution_count": 8,
   "metadata": {},
   "outputs": [],
   "source": [
    "mspa_feature = v.Switch(label=\"Separate internal from external features\", v_model=True)\n",
    "\n",
    "def on_feature_change(widget, event, data):\n",
    "    global separate_feature\n",
    "\n",
    "    separate_feature = not separate_feature\n",
    "\n",
    "mspa_feature.on_event('change', on_feature_change )"
   ]
  },
  {
   "cell_type": "code",
   "execution_count": 9,
   "metadata": {},
   "outputs": [],
   "source": [
    "mspa_statistics = v.Switch(label=\"Compute statistics\", v_model=True)\n",
    "\n",
    "def on_statistics_change(widget, event, data):\n",
    "    global statistics\n",
    "\n",
    "    statistics = not statistics\n",
    "\n",
    "mspa_statistics.on_event('change', on_statistics_change )"
   ]
  },
  {
   "cell_type": "code",
   "execution_count": 10,
   "metadata": {},
   "outputs": [],
   "source": [
    "#validate the selected data\n",
    "mspa_process_btn = v.Btn(\n",
    "    color='primary', \n",
    "    children=[\n",
    "        v.Icon(left=True, children=['mdi-cogs']),\n",
    "        'Run process'\n",
    "    ]\n",
    ")\n",
    "\n",
    "def mspa_on_click(widget, event, data):\n",
    "    \n",
    "    global gfc_process_output\n",
    "    global asset_name\n",
    "    global threshold\n",
    "    global gfc_process_btn\n",
    "    \n",
    "    #check for inputs\n",
    "    \n",
    "    #do something \n",
    "    utils.toggleLoading(gee_process_btn)\n",
    "    mspa_process_output.children=['bouton cliqué']\n",
    "    utils.toggleLoading(gee_process_btn)\n",
    "\n",
    "mspa_process_btn.on_event('click', mspa_on_click)"
   ]
  },
  {
   "cell_type": "code",
   "execution_count": 11,
   "metadata": {},
   "outputs": [
    {
     "data": {
      "application/vnd.jupyter.widget-view+json": {
       "model_id": "11696c1635cc4419b8ac9f6bb9b7bfd7",
       "version_major": 2,
       "version_minor": 0
      },
      "text/plain": [
       "Layout(align_center=True, children=[Card(children=[Html(children=['Step 3: Run the map fragmentation'], tag='h…"
      ]
     },
     "metadata": {},
     "output_type": "display_data"
    }
   ],
   "source": [
    "#create the display \n",
    "inputs = v.Layout(\n",
    "    _metadata={'mount-id': 'data-input'},\n",
    "    row=True,\n",
    "    class_=\"pa-5\",\n",
    "    align_center=True, \n",
    "    children=[\n",
    "        v.Flex(xs12=True, children=[mspa_connectivity]),\n",
    "        v.Flex(xs12=True, children=[mspa_edge_slider]),\n",
    "        v.Flex(xs4=True, children=[mspa_transition]),\n",
    "        v.Flex(xs4=True, children=[mspa_feature]),\n",
    "        v.Flex(xs4=True, children=[mspa_statistics]),\n",
    "        v.Flex(xs12=True, children=[mspa_process_btn]),\n",
    "        v.Flex(xs12=True, children=[mspa_process_output]),\n",
    "    ]\n",
    ")\n",
    "#inputs\n",
    "\n",
    "MSPA_content_main =  v.Layout(\n",
    "    _metadata={'mount_id': 'mspa_process_widget'},\n",
    "    row=True,\n",
    "    xs12=True,\n",
    "    align_center=True, \n",
    "    class_=\"ma-5 d-inline\",\n",
    "    children=[\n",
    "        v.Card( \n",
    "            class_=\"pa-5\",\n",
    "            raised=True,\n",
    "            xs12=True,\n",
    "            children=[\n",
    "                v.Html(xs12=True, tag='h2', children=['Step 3: Run the map fragmentation']),\n",
    "                v.Flex(xs12=True, lg6=True, children=[inputs]),   \n",
    "            ]\n",
    "        )\n",
    "    ]\n",
    ")\n",
    "\n",
    "MSPA_content_main"
   ]
  }
 ],
 "metadata": {
  "kernelspec": {
   "display_name": "Python 3",
   "language": "python",
   "name": "python3"
  },
  "language_info": {
   "codemirror_mode": {
    "name": "ipython",
    "version": 3
   },
   "file_extension": ".py",
   "mimetype": "text/x-python",
   "name": "python",
   "nbconvert_exporter": "python",
   "pygments_lexer": "ipython3",
   "version": "3.6.9"
  }
 },
 "nbformat": 4,
 "nbformat_minor": 4
}
