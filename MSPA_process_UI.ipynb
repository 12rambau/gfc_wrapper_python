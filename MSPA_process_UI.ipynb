{
 "cells": [
  {
   "cell_type": "code",
   "execution_count": 1,
   "metadata": {},
   "outputs": [],
   "source": [
    "from sepal_ui import widgetFactory as wf\n",
    "from sepal_ui import widgetBinding as wb\n",
    "\n",
    "#use a class to define your input and output in order to have mutable variables\n",
    "class Mspa_process_IO:\n",
    "    def __init__(self):\n",
    "        #set up your inputs\n",
    "        self.foreground_connectivity = None\n",
    "        self.edge_width = None\n",
    "        self.transition_core = True\n",
    "        self.separate_feature = True\n",
    "        self.statistics = True\n",
    "        \n",
    "        #set up output\n",
    "        \n",
    "mspa_process_io = Mspa_process_IO()"
   ]
  },
  {
   "cell_type": "code",
   "execution_count": 2,
   "metadata": {},
   "outputs": [],
   "source": [
    "#some messages diplayed by the process\n",
    "MSPA_MESSAGE = 'click on \"Run process\" to launch the process on your sepal account'\n",
    "NO_MAP = 'No map have been provided, compute the GFC analysis first'\n",
    "NO_AOI = 'No aoi have been provided, select one in step 1'\n",
    "NO_INPUT ='Missing input for the process, complete all fields'"
   ]
  },
  {
   "cell_type": "code",
   "execution_count": 3,
   "metadata": {},
   "outputs": [],
   "source": [
    "#create an empty result tile that will be filled with displayable plot, map, links, text\n",
    "id_ = \"mspa_result_widget\"\n",
    "title = \"Results\"\n",
    "mspa_results = wf.Tile(id_, title, inputs=['No results to display yet'])"
   ]
  },
  {
   "cell_type": "code",
   "execution_count": 4,
   "metadata": {},
   "outputs": [],
   "source": [
    "import ipyvuetify as v\n",
    "\n",
    "#create the output alert \n",
    "mspa_process_output = wf.OutputWidget(MSPA_MESSAGE)\n",
    "\n",
    "#create the button that start your process\n",
    "mspa_process_btn = wf.ProcessBtn('Run mspa analysis')\n",
    "\n",
    "#create the widgets following ipyvuetify requirements \n",
    "connectivity = [4, 8] #using text input to transform it into 'confXX'\n",
    "mspa_connectivity = v.Select(\n",
    "    items=connectivity, \n",
    "    label='Foreground connectivity', \n",
    "    v_model=None\n",
    ")\n",
    "mspa_edge_slider = v.Slider(\n",
    "    label= 'Edge width', \n",
    "    class_=\"mt-5\", \n",
    "    thumb_label='always', \n",
    "    v_model=0\n",
    ")\n",
    "mspa_transition = v.Switch(label=\"Transition Core - Loop/Bridge\", v_model=True)\n",
    "mspa_feature = v.Switch(label=\"Separate internal from external features\", v_model=True)\n",
    "mspa_statistics = v.Switch(label=\"Compute statistics\", v_model=True)\n",
    "\n",
    "\n",
    "mspa_process_inputs = [\n",
    "    mspa_connectivity, \n",
    "    mspa_edge_slider, \n",
    "    mspa_transition, \n",
    "    mspa_feature, \n",
    "    mspa_statistics\n",
    "]\n",
    "\n",
    "#bind the widget to the inputs\n",
    "wb.bind(mspa_connectivity, mspa_process_io, 'foreground_connectivity', mspa_process_output)\n",
    "wb.bind(mspa_edge_slider, mspa_process_io, 'edge_width', mspa_process_output)\n",
    "wb.bind(mspa_transition, mspa_process_io, 'transition_core', mspa_process_output)\n",
    "wb.bind(mspa_feature, mspa_process_io, 'separate_feature', mspa_process_output)\n",
    "wb.bind(mspa_statistics, mspa_process_io, 'statistics', mspa_process_output)\n",
    "\n",
    "\n",
    "#create a process tile\n",
    "id_ = \"mspa_process_widget\"\n",
    "title = 'Create fragmentation map'\n",
    "\n",
    "mspa_process = wf.Tile(\n",
    "    id_, \n",
    "    title, \n",
    "    btn=mspa_process_btn, \n",
    "    inputs=mspa_process_inputs, \n",
    "    output=mspa_process_output\n",
    ")"
   ]
  },
  {
   "cell_type": "code",
   "execution_count": 5,
   "metadata": {},
   "outputs": [],
   "source": [
    "#bind the button to the process by writing a custom function\n",
    "from scripts import run\n",
    "from sepal_ui.scripts import utils\n",
    "from functools import partial\n",
    "\n",
    "def process_start(widget, event, data, output):\n",
    "    \n",
    "    #in order to write the results\n",
    "    global mspa_results\n",
    "    \n",
    "    \n",
    "    #toggle the loading button\n",
    "    utils.toggleLoading(widget)\n",
    "    \n",
    "    #load inputs\n",
    "    #asset = getattr(gfc_aoi_IO, 'assetId')\n",
    "    #threshold = getattr(gfc_process_io, 'threshold')\n",
    "    #clip_map = getattr(gfc_process_io, clip_map)\n",
    "    foreground_connectivity = getattr(mspa_process_io, 'foreground_connectivity')\n",
    "    edge_width = getattr(mspa_process_io,'edge_width')\n",
    "    transition_core = getattr(mspa_process_io, 'transition_core')\n",
    "    separate_feature = getattr(mspa_process_io, 'separate_feature')\n",
    "    statistics = getattr(mspa_process_io, 'statistics')\n",
    "    \n",
    "    #debug\n",
    "    asset = 'users/bornToBeAlive/aoi_PU'\n",
    "    threshold = 30\n",
    "    clip_map = '/home/prambaud/gfc_wrapper_results/gfc/PU_30_gfc_map.tif'\n",
    "    \n",
    "    #check inputs \n",
    "    if not asset: \n",
    "        utils.displayIO(output, NO_AOI, alert_type='error')\n",
    "        utils.toggleLoading(widget)\n",
    "        return \n",
    "    \n",
    "    if not (clip_map and threshold): \n",
    "        utils.displayIO(output, NO_MAP, alert_type='error')\n",
    "        utils.toggleLoading(widget)\n",
    "        return\n",
    "    \n",
    "    if not (foreground_connectivity or edge_width): \n",
    "        utils.displayIO(output, NO_INPUT, alert_type='error')\n",
    "        utils.toggleLoading(widget)\n",
    "        return\n",
    "    \n",
    "    #launch any process you want\n",
    "    run.mspaAnalysis(\n",
    "        clip_map=clip_map, \n",
    "        assetId=asset, \n",
    "        threshold=threshold, \n",
    "        foreground_connectivity=foreground_connectivity, \n",
    "        edge_width=edge_width, \n",
    "        transition_core=transition_core, \n",
    "        separate_feature=separate_feature, \n",
    "        statistics=statistics,\n",
    "        output=output\n",
    "    )\n",
    "    \n",
    "    #utils.displayIO(output, 'on a cliqué', alert_type='success')\n",
    "    \n",
    "    #toggle the loading button\n",
    "    utils.toggleLoading(widget)\n",
    "\n",
    "mspa_process_btn.on_event('click', partial(process_start, output=mspa_process_output))"
   ]
  },
  {
   "cell_type": "code",
   "execution_count": 6,
   "metadata": {
    "scrolled": false
   },
   "outputs": [
    {
     "data": {
      "application/vnd.jupyter.widget-view+json": {
       "model_id": "c65288c766f64ecdaa8f6e4cb5bf970a",
       "version_major": 2,
       "version_minor": 0
      },
      "text/plain": [
       "Layout(align_center=True, children=[Card(children=[Html(children=['Create fragmentation map'], tag='h2'), Flex…"
      ]
     },
     "metadata": {},
     "output_type": "display_data"
    },
    {
     "name": "stdout",
     "output_type": "stream",
     "text": [
      "mspa masked map already ready\n",
      "chmod 755 /home/prambaud/gfc_wrapper_results/tmp/mspa/mspa_lin64\n"
     ]
    },
    {
     "ename": "FileNotFoundError",
     "evalue": "[Errno 2] No such file or directory: '/home/prambaud/gfc_wrapper_results/tmp/mspa/output/input_8_1_1_1_1_stat.txt'",
     "output_type": "error",
     "traceback": [
      "\u001b[0;31m---------------------------------------------------------------------------\u001b[0m",
      "\u001b[0;31mFileNotFoundError\u001b[0m                         Traceback (most recent call last)",
      "\u001b[0;32m<ipython-input-5-5b7f99182820>\u001b[0m in \u001b[0;36mprocess_start\u001b[0;34m(widget, event, data, output)\u001b[0m\n\u001b[1;32m     54\u001b[0m         \u001b[0mseparate_feature\u001b[0m\u001b[0;34m=\u001b[0m\u001b[0mseparate_feature\u001b[0m\u001b[0;34m,\u001b[0m\u001b[0;34m\u001b[0m\u001b[0;34m\u001b[0m\u001b[0m\n\u001b[1;32m     55\u001b[0m         \u001b[0mstatistics\u001b[0m\u001b[0;34m=\u001b[0m\u001b[0mstatistics\u001b[0m\u001b[0;34m,\u001b[0m\u001b[0;34m\u001b[0m\u001b[0;34m\u001b[0m\u001b[0m\n\u001b[0;32m---> 56\u001b[0;31m         \u001b[0moutput\u001b[0m\u001b[0;34m=\u001b[0m\u001b[0moutput\u001b[0m\u001b[0;34m\u001b[0m\u001b[0;34m\u001b[0m\u001b[0m\n\u001b[0m\u001b[1;32m     57\u001b[0m     )\n\u001b[1;32m     58\u001b[0m \u001b[0;34m\u001b[0m\u001b[0m\n",
      "\u001b[0;32m~/gfc_wrapper_python/scripts/run.py\u001b[0m in \u001b[0;36mmspaAnalysis\u001b[0;34m(clip_map, assetId, threshold, foreground_connectivity, edge_width, transition_core, separate_feature, statistics, output)\u001b[0m\n\u001b[1;32m    256\u001b[0m         \u001b[0;34m'_'\u001b[0m\u001b[0;34m.\u001b[0m\u001b[0mjoin\u001b[0m\u001b[0;34m(\u001b[0m\u001b[0mmspa_param\u001b[0m\u001b[0;34m)\u001b[0m\u001b[0;34m\u001b[0m\u001b[0;34m\u001b[0m\u001b[0m\n\u001b[1;32m    257\u001b[0m     )\n\u001b[0;32m--> 258\u001b[0;31m     \u001b[0mshutil\u001b[0m\u001b[0;34m.\u001b[0m\u001b[0mcopyfile\u001b[0m\u001b[0;34m(\u001b[0m\u001b[0mmspa_tmp_stat\u001b[0m\u001b[0;34m,\u001b[0m \u001b[0mmspa_stat\u001b[0m\u001b[0;34m)\u001b[0m\u001b[0;34m\u001b[0m\u001b[0;34m\u001b[0m\u001b[0m\n\u001b[0m\u001b[1;32m    259\u001b[0m \u001b[0;34m\u001b[0m\u001b[0m\n\u001b[1;32m    260\u001b[0m     \u001b[0mmspa_tmp_map\u001b[0m \u001b[0;34m=\u001b[0m \u001b[0mmspa_output_dir\u001b[0m \u001b[0;34m+\u001b[0m \u001b[0;34m'input_'\u001b[0m \u001b[0;34m+\u001b[0m \u001b[0;34m'_'\u001b[0m\u001b[0;34m.\u001b[0m\u001b[0mjoin\u001b[0m\u001b[0;34m(\u001b[0m\u001b[0mmspa_param\u001b[0m\u001b[0;34m)\u001b[0m \u001b[0;34m+\u001b[0m \u001b[0;34m'.tif'\u001b[0m\u001b[0;34m\u001b[0m\u001b[0;34m\u001b[0m\u001b[0m\n",
      "\u001b[0;32m/usr/lib/python3.6/shutil.py\u001b[0m in \u001b[0;36mcopyfile\u001b[0;34m(src, dst, follow_symlinks)\u001b[0m\n\u001b[1;32m    118\u001b[0m         \u001b[0mos\u001b[0m\u001b[0;34m.\u001b[0m\u001b[0msymlink\u001b[0m\u001b[0;34m(\u001b[0m\u001b[0mos\u001b[0m\u001b[0;34m.\u001b[0m\u001b[0mreadlink\u001b[0m\u001b[0;34m(\u001b[0m\u001b[0msrc\u001b[0m\u001b[0;34m)\u001b[0m\u001b[0;34m,\u001b[0m \u001b[0mdst\u001b[0m\u001b[0;34m)\u001b[0m\u001b[0;34m\u001b[0m\u001b[0;34m\u001b[0m\u001b[0m\n\u001b[1;32m    119\u001b[0m     \u001b[0;32melse\u001b[0m\u001b[0;34m:\u001b[0m\u001b[0;34m\u001b[0m\u001b[0;34m\u001b[0m\u001b[0m\n\u001b[0;32m--> 120\u001b[0;31m         \u001b[0;32mwith\u001b[0m \u001b[0mopen\u001b[0m\u001b[0;34m(\u001b[0m\u001b[0msrc\u001b[0m\u001b[0;34m,\u001b[0m \u001b[0;34m'rb'\u001b[0m\u001b[0;34m)\u001b[0m \u001b[0;32mas\u001b[0m \u001b[0mfsrc\u001b[0m\u001b[0;34m:\u001b[0m\u001b[0;34m\u001b[0m\u001b[0;34m\u001b[0m\u001b[0m\n\u001b[0m\u001b[1;32m    121\u001b[0m             \u001b[0;32mwith\u001b[0m \u001b[0mopen\u001b[0m\u001b[0;34m(\u001b[0m\u001b[0mdst\u001b[0m\u001b[0;34m,\u001b[0m \u001b[0;34m'wb'\u001b[0m\u001b[0;34m)\u001b[0m \u001b[0;32mas\u001b[0m \u001b[0mfdst\u001b[0m\u001b[0;34m:\u001b[0m\u001b[0;34m\u001b[0m\u001b[0;34m\u001b[0m\u001b[0m\n\u001b[1;32m    122\u001b[0m                 \u001b[0mcopyfileobj\u001b[0m\u001b[0;34m(\u001b[0m\u001b[0mfsrc\u001b[0m\u001b[0;34m,\u001b[0m \u001b[0mfdst\u001b[0m\u001b[0;34m)\u001b[0m\u001b[0;34m\u001b[0m\u001b[0;34m\u001b[0m\u001b[0m\n",
      "\u001b[0;31mFileNotFoundError\u001b[0m: [Errno 2] No such file or directory: '/home/prambaud/gfc_wrapper_results/tmp/mspa/output/input_8_1_1_1_1_stat.txt'"
     ]
    }
   ],
   "source": [
    "#this tiles will only be displayed if you launch voila from this file \n",
    "mspa_process"
   ]
  },
  {
   "cell_type": "code",
   "execution_count": 7,
   "metadata": {},
   "outputs": [
    {
     "data": {
      "application/vnd.jupyter.widget-view+json": {
       "model_id": "f7c069baf0ea436c9c6bb9617689fb4a",
       "version_major": 2,
       "version_minor": 0
      },
      "text/plain": [
       "Layout(align_center=True, children=[Card(children=[Html(children=['Results'], tag='h2'), Flex(children=[Layout…"
      ]
     },
     "metadata": {},
     "output_type": "display_data"
    }
   ],
   "source": [
    "#this tiles will only be displayed if you launch voila from this file \n",
    "mspa_results"
   ]
  },
  {
   "cell_type": "code",
   "execution_count": 8,
   "metadata": {},
   "outputs": [],
   "source": [
    "#print(getattr(mspa_process_io, 'foreground_connectivity'))\n",
    "#print(getattr(mspa_process_io,'edge_width'))\n",
    "#print(getattr(mspa_process_io, 'transition_core'))\n",
    "#print(getattr(mspa_process_io, 'separate_feature'))\n",
    "#print(getattr(mspa_process_io, 'statistics'))"
   ]
  },
  {
   "cell_type": "code",
   "execution_count": null,
   "metadata": {},
   "outputs": [],
   "source": []
  }
 ],
 "metadata": {
  "kernelspec": {
   "display_name": "Python 3",
   "language": "python",
   "name": "python3"
  },
  "language_info": {
   "codemirror_mode": {
    "name": "ipython",
    "version": 3
   },
   "file_extension": ".py",
   "mimetype": "text/x-python",
   "name": "python",
   "nbconvert_exporter": "python",
   "pygments_lexer": "ipython3",
   "version": "3.6.9"
  }
 },
 "nbformat": 4,
 "nbformat_minor": 4
}
